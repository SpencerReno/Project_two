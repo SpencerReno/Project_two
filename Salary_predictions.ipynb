{
 "cells": [
  {
   "cell_type": "code",
   "execution_count": 1,
   "metadata": {},
   "outputs": [],
   "source": [
    "import pandas as pd\n",
    "import numpy as np\n",
    "import seaborn as sns\n",
    "import matplotlib.pyplot as plt\n",
    "from sklearn.model_selection import train_test_split, GridSearchCV\n",
    "from sklearn.neighbors import KNeighborsRegressor\n",
    "from sklearn.ensemble import RandomForestRegressor\n",
    "from sklearn.pipeline import make_pipeline\n",
    "from sklearn.metrics import mean_squared_error, mean_absolute_error, r2_score\n",
    "from sklearn.compose import make_column_transformer, make_column_selector\n",
    "from sklearn.preprocessing import  StandardScaler, OneHotEncoder\n",
    "from sklearn.compose import make_column_transformer, make_column_selector"
   ]
  },
  {
   "cell_type": "code",
   "execution_count": 2,
   "metadata": {},
   "outputs": [
    {
     "data": {
      "text/html": [
       "<div>\n",
       "<style scoped>\n",
       "    .dataframe tbody tr th:only-of-type {\n",
       "        vertical-align: middle;\n",
       "    }\n",
       "\n",
       "    .dataframe tbody tr th {\n",
       "        vertical-align: top;\n",
       "    }\n",
       "\n",
       "    .dataframe thead th {\n",
       "        text-align: right;\n",
       "    }\n",
       "</style>\n",
       "<table border=\"1\" class=\"dataframe\">\n",
       "  <thead>\n",
       "    <tr style=\"text-align: right;\">\n",
       "      <th></th>\n",
       "      <th>timestamp</th>\n",
       "      <th>company</th>\n",
       "      <th>level</th>\n",
       "      <th>title</th>\n",
       "      <th>totalyearlycompensation</th>\n",
       "      <th>location</th>\n",
       "      <th>yearsofexperience</th>\n",
       "      <th>yearsatcompany</th>\n",
       "      <th>tag</th>\n",
       "      <th>basesalary</th>\n",
       "      <th>...</th>\n",
       "      <th>Doctorate_Degree</th>\n",
       "      <th>Highschool</th>\n",
       "      <th>Some_College</th>\n",
       "      <th>Race_Asian</th>\n",
       "      <th>Race_White</th>\n",
       "      <th>Race_Two_Or_More</th>\n",
       "      <th>Race_Black</th>\n",
       "      <th>Race_Hispanic</th>\n",
       "      <th>Race</th>\n",
       "      <th>Education</th>\n",
       "    </tr>\n",
       "  </thead>\n",
       "  <tbody>\n",
       "    <tr>\n",
       "      <th>0</th>\n",
       "      <td>6/7/2017 11:33:27</td>\n",
       "      <td>Oracle</td>\n",
       "      <td>L3</td>\n",
       "      <td>Product Manager</td>\n",
       "      <td>127000</td>\n",
       "      <td>Redwood City, CA</td>\n",
       "      <td>1.5</td>\n",
       "      <td>1.5</td>\n",
       "      <td>NaN</td>\n",
       "      <td>107000.0</td>\n",
       "      <td>...</td>\n",
       "      <td>0</td>\n",
       "      <td>0</td>\n",
       "      <td>0</td>\n",
       "      <td>0</td>\n",
       "      <td>0</td>\n",
       "      <td>0</td>\n",
       "      <td>0</td>\n",
       "      <td>0</td>\n",
       "      <td>NaN</td>\n",
       "      <td>NaN</td>\n",
       "    </tr>\n",
       "    <tr>\n",
       "      <th>1</th>\n",
       "      <td>6/10/2017 17:11:29</td>\n",
       "      <td>eBay</td>\n",
       "      <td>SE 2</td>\n",
       "      <td>Software Engineer</td>\n",
       "      <td>100000</td>\n",
       "      <td>San Francisco, CA</td>\n",
       "      <td>5.0</td>\n",
       "      <td>3.0</td>\n",
       "      <td>NaN</td>\n",
       "      <td>0.0</td>\n",
       "      <td>...</td>\n",
       "      <td>0</td>\n",
       "      <td>0</td>\n",
       "      <td>0</td>\n",
       "      <td>0</td>\n",
       "      <td>0</td>\n",
       "      <td>0</td>\n",
       "      <td>0</td>\n",
       "      <td>0</td>\n",
       "      <td>NaN</td>\n",
       "      <td>NaN</td>\n",
       "    </tr>\n",
       "    <tr>\n",
       "      <th>2</th>\n",
       "      <td>6/11/2017 14:53:57</td>\n",
       "      <td>Amazon</td>\n",
       "      <td>L7</td>\n",
       "      <td>Product Manager</td>\n",
       "      <td>310000</td>\n",
       "      <td>Seattle, WA</td>\n",
       "      <td>8.0</td>\n",
       "      <td>0.0</td>\n",
       "      <td>NaN</td>\n",
       "      <td>155000.0</td>\n",
       "      <td>...</td>\n",
       "      <td>0</td>\n",
       "      <td>0</td>\n",
       "      <td>0</td>\n",
       "      <td>0</td>\n",
       "      <td>0</td>\n",
       "      <td>0</td>\n",
       "      <td>0</td>\n",
       "      <td>0</td>\n",
       "      <td>NaN</td>\n",
       "      <td>NaN</td>\n",
       "    </tr>\n",
       "    <tr>\n",
       "      <th>3</th>\n",
       "      <td>6/17/2017 0:23:14</td>\n",
       "      <td>Apple</td>\n",
       "      <td>M1</td>\n",
       "      <td>Software Engineering Manager</td>\n",
       "      <td>372000</td>\n",
       "      <td>Sunnyvale, CA</td>\n",
       "      <td>7.0</td>\n",
       "      <td>5.0</td>\n",
       "      <td>NaN</td>\n",
       "      <td>157000.0</td>\n",
       "      <td>...</td>\n",
       "      <td>0</td>\n",
       "      <td>0</td>\n",
       "      <td>0</td>\n",
       "      <td>0</td>\n",
       "      <td>0</td>\n",
       "      <td>0</td>\n",
       "      <td>0</td>\n",
       "      <td>0</td>\n",
       "      <td>NaN</td>\n",
       "      <td>NaN</td>\n",
       "    </tr>\n",
       "    <tr>\n",
       "      <th>4</th>\n",
       "      <td>6/20/2017 10:58:51</td>\n",
       "      <td>Microsoft</td>\n",
       "      <td>60</td>\n",
       "      <td>Software Engineer</td>\n",
       "      <td>157000</td>\n",
       "      <td>Mountain View, CA</td>\n",
       "      <td>5.0</td>\n",
       "      <td>3.0</td>\n",
       "      <td>NaN</td>\n",
       "      <td>0.0</td>\n",
       "      <td>...</td>\n",
       "      <td>0</td>\n",
       "      <td>0</td>\n",
       "      <td>0</td>\n",
       "      <td>0</td>\n",
       "      <td>0</td>\n",
       "      <td>0</td>\n",
       "      <td>0</td>\n",
       "      <td>0</td>\n",
       "      <td>NaN</td>\n",
       "      <td>NaN</td>\n",
       "    </tr>\n",
       "  </tbody>\n",
       "</table>\n",
       "<p>5 rows × 29 columns</p>\n",
       "</div>"
      ],
      "text/plain": [
       "            timestamp    company level                         title  \\\n",
       "0   6/7/2017 11:33:27     Oracle    L3               Product Manager   \n",
       "1  6/10/2017 17:11:29       eBay  SE 2             Software Engineer   \n",
       "2  6/11/2017 14:53:57     Amazon    L7               Product Manager   \n",
       "3   6/17/2017 0:23:14      Apple    M1  Software Engineering Manager   \n",
       "4  6/20/2017 10:58:51  Microsoft    60             Software Engineer   \n",
       "\n",
       "   totalyearlycompensation           location  yearsofexperience  \\\n",
       "0                   127000   Redwood City, CA                1.5   \n",
       "1                   100000  San Francisco, CA                5.0   \n",
       "2                   310000        Seattle, WA                8.0   \n",
       "3                   372000      Sunnyvale, CA                7.0   \n",
       "4                   157000  Mountain View, CA                5.0   \n",
       "\n",
       "   yearsatcompany  tag  basesalary  ...  Doctorate_Degree  Highschool  \\\n",
       "0             1.5  NaN    107000.0  ...                 0           0   \n",
       "1             3.0  NaN         0.0  ...                 0           0   \n",
       "2             0.0  NaN    155000.0  ...                 0           0   \n",
       "3             5.0  NaN    157000.0  ...                 0           0   \n",
       "4             3.0  NaN         0.0  ...                 0           0   \n",
       "\n",
       "  Some_College Race_Asian  Race_White  Race_Two_Or_More  Race_Black  \\\n",
       "0            0          0           0                 0           0   \n",
       "1            0          0           0                 0           0   \n",
       "2            0          0           0                 0           0   \n",
       "3            0          0           0                 0           0   \n",
       "4            0          0           0                 0           0   \n",
       "\n",
       "   Race_Hispanic  Race  Education  \n",
       "0              0   NaN        NaN  \n",
       "1              0   NaN        NaN  \n",
       "2              0   NaN        NaN  \n",
       "3              0   NaN        NaN  \n",
       "4              0   NaN        NaN  \n",
       "\n",
       "[5 rows x 29 columns]"
      ]
     },
     "execution_count": 2,
     "metadata": {},
     "output_type": "execute_result"
    }
   ],
   "source": [
    "salary_data= pd.read_csv('./data_files/levels_fyi_Salary_Data.csv')\n",
    "salary_data.head()"
   ]
  },
  {
   "cell_type": "code",
   "execution_count": 3,
   "metadata": {},
   "outputs": [
    {
     "data": {
      "text/plain": [
       "timestamp                   object\n",
       "company                     object\n",
       "level                       object\n",
       "title                       object\n",
       "totalyearlycompensation      int64\n",
       "location                    object\n",
       "yearsofexperience          float64\n",
       "yearsatcompany             float64\n",
       "tag                         object\n",
       "basesalary                 float64\n",
       "stockgrantvalue            float64\n",
       "bonus                      float64\n",
       "gender                      object\n",
       "otherdetails                object\n",
       "cityid                       int64\n",
       "dmaid                      float64\n",
       "rowNumber                    int64\n",
       "Masters_Degree               int64\n",
       "Bachelors_Degree             int64\n",
       "Doctorate_Degree             int64\n",
       "Highschool                   int64\n",
       "Some_College                 int64\n",
       "Race_Asian                   int64\n",
       "Race_White                   int64\n",
       "Race_Two_Or_More             int64\n",
       "Race_Black                   int64\n",
       "Race_Hispanic                int64\n",
       "Race                        object\n",
       "Education                   object\n",
       "dtype: object"
      ]
     },
     "execution_count": 3,
     "metadata": {},
     "output_type": "execute_result"
    }
   ],
   "source": [
    "salary_data.dtypes"
   ]
  },
  {
   "cell_type": "markdown",
   "metadata": {},
   "source": [
    "# Inital drops for columns without a use\n",
    "## Timestamp column doesnt have any use to me for this data set so it will be dropped\n",
    "## tag has a lot of missing values and wouldnt be any use to keep for predictions\n",
    "## race coloumn is just redunent since each race is already ohe\n",
    "## Education has to many missing values to make assumtions for what they could be. It's better to drop\n",
    "## Otherdetails is a more detailed description of their race, job title, and education same as before its reduntent so we dont need it \n",
    "## Rownumber seams like just a secondary index so it can be dropped "
   ]
  },
  {
   "cell_type": "code",
   "execution_count": 4,
   "metadata": {},
   "outputs": [],
   "source": [
    "salary_data.drop(columns=['timestamp', 'tag','Race','Education', 'otherdetails', 'rowNumber'], inplace=True)"
   ]
  },
  {
   "cell_type": "code",
   "execution_count": 5,
   "metadata": {},
   "outputs": [
    {
     "data": {
      "text/plain": [
       "company                        5\n",
       "level                        119\n",
       "title                          0\n",
       "totalyearlycompensation        0\n",
       "location                       0\n",
       "yearsofexperience              0\n",
       "yearsatcompany                 0\n",
       "basesalary                     0\n",
       "stockgrantvalue                0\n",
       "bonus                          0\n",
       "gender                     19540\n",
       "cityid                         0\n",
       "dmaid                          2\n",
       "Masters_Degree                 0\n",
       "Bachelors_Degree               0\n",
       "Doctorate_Degree               0\n",
       "Highschool                     0\n",
       "Some_College                   0\n",
       "Race_Asian                     0\n",
       "Race_White                     0\n",
       "Race_Two_Or_More               0\n",
       "Race_Black                     0\n",
       "Race_Hispanic                  0\n",
       "dtype: int64"
      ]
     },
     "execution_count": 5,
     "metadata": {},
     "output_type": "execute_result"
    }
   ],
   "source": [
    "salary_data.isnull().sum()"
   ]
  },
  {
   "cell_type": "markdown",
   "metadata": {},
   "source": [
    "## There is a lot of comapnys and when trying to Ohe later this will create way to many separte columns so instead of having all these I think it will be better to compare non FAANG companies vs the FAANG companies  (Facebook, Amazon, Apple, Nextflix, Google)"
   ]
  },
  {
   "cell_type": "code",
   "execution_count": 6,
   "metadata": {},
   "outputs": [
    {
     "data": {
      "text/plain": [
       "1632"
      ]
     },
     "execution_count": 6,
     "metadata": {},
     "output_type": "execute_result"
    }
   ],
   "source": [
    "len(salary_data['company'].unique())"
   ]
  },
  {
   "cell_type": "code",
   "execution_count": 7,
   "metadata": {},
   "outputs": [],
   "source": [
    "faang = ['Facebook', 'Amazon','Apple', 'Netflix','Google']"
   ]
  },
  {
   "cell_type": "code",
   "execution_count": 8,
   "metadata": {},
   "outputs": [],
   "source": [
    "salary_data.loc[salary_data['company'].isin(faang), 'company'] = 'FAANG'"
   ]
  },
  {
   "cell_type": "code",
   "execution_count": 9,
   "metadata": {},
   "outputs": [],
   "source": [
    "salary_data.loc[salary_data['company'] != 'FAANG', 'company'] = 'not_FAANG'"
   ]
  },
  {
   "cell_type": "code",
   "execution_count": 10,
   "metadata": {},
   "outputs": [
    {
     "data": {
      "text/plain": [
       "array(['not_FAANG', 'FAANG'], dtype=object)"
      ]
     },
     "execution_count": 10,
     "metadata": {},
     "output_type": "execute_result"
    }
   ],
   "source": [
    "salary_data['company'].unique()"
   ]
  },
  {
   "cell_type": "markdown",
   "metadata": {},
   "source": [
    "## There is a significant amount of missing values in the gender column this might be due to these workers not wanting to share that information so we will fill these with 'unknown'. and there is one lingering 'Title: Senior Software Engineer' so that will be changed to 'unknown' as well"
   ]
  },
  {
   "cell_type": "code",
   "execution_count": 11,
   "metadata": {},
   "outputs": [
    {
     "data": {
      "text/plain": [
       "array([nan, 'Male', 'Female', 'Other', 'Title: Senior Software Engineer'],\n",
       "      dtype=object)"
      ]
     },
     "execution_count": 11,
     "metadata": {},
     "output_type": "execute_result"
    }
   ],
   "source": [
    "salary_data['gender'].unique()"
   ]
  },
  {
   "cell_type": "code",
   "execution_count": 12,
   "metadata": {},
   "outputs": [],
   "source": [
    "salary_data['gender'].fillna('unknown', inplace=True)\n",
    "salary_data['gender'].replace({'Title: Senior Software Engineer': 'unknown'}, inplace=True )"
   ]
  },
  {
   "cell_type": "markdown",
   "metadata": {},
   "source": [
    "## There is a lot of different levels and there is also other columns that tell the same story ie. yearsatcompany, yearsofexp, etc. So this will be dropped"
   ]
  },
  {
   "cell_type": "code",
   "execution_count": 13,
   "metadata": {},
   "outputs": [],
   "source": [
    "len(salary_data['level'].unique())\n",
    "salary_data.drop(columns='level', inplace=True)"
   ]
  },
  {
   "cell_type": "code",
   "execution_count": 14,
   "metadata": {},
   "outputs": [
    {
     "data": {
      "text/plain": [
       "0         Redwood City, CA\n",
       "1        San Francisco, CA\n",
       "2              Seattle, WA\n",
       "3            Sunnyvale, CA\n",
       "4        Mountain View, CA\n",
       "               ...        \n",
       "62637          Seattle, WA\n",
       "62638          Redmond, WA\n",
       "62639          Seattle, WA\n",
       "62640    San Francisco, CA\n",
       "62641        Sunnyvale, CA\n",
       "Name: location, Length: 62642, dtype: object"
      ]
     },
     "execution_count": 14,
     "metadata": {},
     "output_type": "execute_result"
    }
   ],
   "source": [
    "salary_data['location']"
   ]
  },
  {
   "cell_type": "code",
   "execution_count": 15,
   "metadata": {},
   "outputs": [],
   "source": [
    "#adds new column for the countries (however some states within the usa and not under USA these will be handeled later)\n",
    "salary_data['country'] = salary_data['location'].apply(lambda x: x.split(',')[-1].strip(' '))"
   ]
  },
  {
   "cell_type": "code",
   "execution_count": 16,
   "metadata": {},
   "outputs": [
    {
     "data": {
      "text/plain": [
       "array(['CA', 'WA', 'United Kingdom', 'NY', 'Ireland', 'MD', 'OR', 'India',\n",
       "       'Belarus', 'DC', 'Canada', 'TX', 'MA', 'LA', 'PA', 'SC', 'Russia',\n",
       "       'VA', 'CO', 'NE', 'IN', 'WI', 'MN', 'Netherlands', 'Switzerland',\n",
       "       'Singapore', 'IL', 'Germany', 'NJ', 'Japan', 'AZ', 'Sweden',\n",
       "       'Australia', 'United States', 'Israel', 'Poland', 'OH', 'China',\n",
       "       'NC', 'Austria', 'Luxembourg', 'FL', 'GA', 'MO', 'Czech Republic',\n",
       "       'RI', 'UT', 'France', 'Pakistan', 'New Zealand', 'Denmark', 'MI',\n",
       "       'Hong Kong (SAR)', 'South Africa', 'Spain', 'CT',\n",
       "       'United Arab Emirates', 'NM', 'AR', 'VT', 'Hungary', 'IA',\n",
       "       'Brazil', 'Bulgaria', 'KS', 'NH', 'ID', 'Philippines', 'TN',\n",
       "       'Indonesia', 'Puerto Rico', 'Taiwan', 'DE', 'Romania', 'AL',\n",
       "       'Mexico', 'NV', 'Costa Rica', 'Marshall Islands', 'Vietnam',\n",
       "       'Panama', 'KY', 'Argentina', 'Norway', 'Moldova', 'Estonia',\n",
       "       'Kenya', 'Turkey', 'Italy', 'Lithuania', 'Nigeria', 'WV', 'South',\n",
       "       'Ukraine', 'Jordan', 'Thailand', 'OK', 'Colombia', 'Serbia',\n",
       "       'Portugal', 'Guatemala', 'Yugoslavia', 'Uruguay', 'Slovakia',\n",
       "       'Bangladesh', 'MS', 'Finland', 'ME', 'Chile', 'MT', 'ND',\n",
       "       'Malaysia', 'Latvia', 'Saudi Arabia', 'Peru',\n",
       "       'Netherlands Antilles', 'Belgium', 'Burma', 'Qatar', 'HI', 'WY',\n",
       "       'Ghana', 'Kazakhstan', 'Uzbekistan', 'Armenia', 'Morocco', 'Iraq',\n",
       "       'Trinidad and Tobago', 'Egypt'], dtype=object)"
      ]
     },
     "execution_count": 16,
     "metadata": {},
     "output_type": "execute_result"
    }
   ],
   "source": [
    "salary_data['country'].unique()"
   ]
  },
  {
   "cell_type": "markdown",
   "metadata": {},
   "source": [
    "## Replaces all the states to one United States (processing if statements within lambda functions [here](https://stackoverflow.com/questions/1585322/is-there-a-way-to-perform-if-in-pythons-lambda ))"
   ]
  },
  {
   "cell_type": "code",
   "execution_count": 17,
   "metadata": {},
   "outputs": [],
   "source": [
    "salary_data['country'] = salary_data['country'].apply(lambda x: 'United States' if len(x) == 2 else x)\n",
    "#Now we can drop the location and cityid since they are sparated by the country in the new column\n",
    "salary_data.drop(columns=['location', 'cityid'], inplace=True)"
   ]
  },
  {
   "cell_type": "markdown",
   "metadata": {},
   "source": [
    "## Wasn't to sure on what dmaId was so I looked up how others tackled this since there are 2 missing values. [Here](https://www.kaggle.com/kwangyangchia/midterm-project-for-mle/notebook?scriptVersionId=77536394&cellId=50) they used median to fill the missing values since the dmaid column isnt distruibuted to well so I will do the same. "
   ]
  },
  {
   "cell_type": "code",
   "execution_count": 18,
   "metadata": {},
   "outputs": [
    {
     "data": {
      "image/png": "[encoded data removed]",
      "text/plain": [
       "<Figure size 432x288 with 1 Axes>"
      ]
     },
     "metadata": {
      "needs_background": "light"
     },
     "output_type": "display_data"
    }
   ],
   "source": [
    "plt.hist(salary_data['dmaid'])\n",
    "plt.show()"
   ]
  },
  {
   "cell_type": "code",
   "execution_count": 19,
   "metadata": {},
   "outputs": [],
   "source": [
    "salary_data['dmaid'].fillna(salary_data['dmaid'].median(), inplace=True)"
   ]
  },
  {
   "cell_type": "markdown",
   "metadata": {},
   "source": [
    "# Final check for missing values and incorrect dtypes"
   ]
  },
  {
   "cell_type": "code",
   "execution_count": 20,
   "metadata": {},
   "outputs": [
    {
     "data": {
      "text/plain": [
       "company                    0\n",
       "title                      0\n",
       "totalyearlycompensation    0\n",
       "yearsofexperience          0\n",
       "yearsatcompany             0\n",
       "basesalary                 0\n",
       "stockgrantvalue            0\n",
       "bonus                      0\n",
       "gender                     0\n",
       "dmaid                      0\n",
       "Masters_Degree             0\n",
       "Bachelors_Degree           0\n",
       "Doctorate_Degree           0\n",
       "Highschool                 0\n",
       "Some_College               0\n",
       "Race_Asian                 0\n",
       "Race_White                 0\n",
       "Race_Two_Or_More           0\n",
       "Race_Black                 0\n",
       "Race_Hispanic              0\n",
       "country                    0\n",
       "dtype: int64"
      ]
     },
     "execution_count": 20,
     "metadata": {},
     "output_type": "execute_result"
    }
   ],
   "source": [
    "salary_data.isnull().sum()"
   ]
  },
  {
   "cell_type": "code",
   "execution_count": 21,
   "metadata": {},
   "outputs": [
    {
     "data": {
      "text/plain": [
       "company                     object\n",
       "title                       object\n",
       "totalyearlycompensation      int64\n",
       "yearsofexperience          float64\n",
       "yearsatcompany             float64\n",
       "basesalary                 float64\n",
       "stockgrantvalue            float64\n",
       "bonus                      float64\n",
       "gender                      object\n",
       "dmaid                      float64\n",
       "Masters_Degree               int64\n",
       "Bachelors_Degree             int64\n",
       "Doctorate_Degree             int64\n",
       "Highschool                   int64\n",
       "Some_College                 int64\n",
       "Race_Asian                   int64\n",
       "Race_White                   int64\n",
       "Race_Two_Or_More             int64\n",
       "Race_Black                   int64\n",
       "Race_Hispanic                int64\n",
       "country                     object\n",
       "dtype: object"
      ]
     },
     "execution_count": 21,
     "metadata": {},
     "output_type": "execute_result"
    }
   ],
   "source": [
    "salary_data.dtypes"
   ]
  },
  {
   "cell_type": "markdown",
   "metadata": {},
   "source": [
    "## Removal of scientific notation code [link](https://stackoverflow.com/questions/40347689/dataframe-describe-suppress-scientific-notation)\n",
    "\n",
    "## With looking at the .describe() the only inconsistancy I see is that the basesalary  has a min of 0 this could be due to a number of things such as unpaid interships etc. However, there is a bouns and totalyearlycompensation columns since just the totalyearly compensation would cover the basesalary alone we can drop the baseSalary column "
   ]
  },
  {
   "cell_type": "code",
   "execution_count": 22,
   "metadata": {},
   "outputs": [
    {
     "data": {
      "text/html": [
       "<div>\n",
       "<style scoped>\n",
       "    .dataframe tbody tr th:only-of-type {\n",
       "        vertical-align: middle;\n",
       "    }\n",
       "\n",
       "    .dataframe tbody tr th {\n",
       "        vertical-align: top;\n",
       "    }\n",
       "\n",
       "    .dataframe thead th {\n",
       "        text-align: right;\n",
       "    }\n",
       "</style>\n",
       "<table border=\"1\" class=\"dataframe\">\n",
       "  <thead>\n",
       "    <tr style=\"text-align: right;\">\n",
       "      <th></th>\n",
       "      <th>totalyearlycompensation</th>\n",
       "      <th>yearsofexperience</th>\n",
       "      <th>yearsatcompany</th>\n",
       "      <th>basesalary</th>\n",
       "      <th>stockgrantvalue</th>\n",
       "      <th>bonus</th>\n",
       "      <th>dmaid</th>\n",
       "      <th>Masters_Degree</th>\n",
       "      <th>Bachelors_Degree</th>\n",
       "      <th>Doctorate_Degree</th>\n",
       "      <th>Highschool</th>\n",
       "      <th>Some_College</th>\n",
       "      <th>Race_Asian</th>\n",
       "      <th>Race_White</th>\n",
       "      <th>Race_Two_Or_More</th>\n",
       "      <th>Race_Black</th>\n",
       "      <th>Race_Hispanic</th>\n",
       "    </tr>\n",
       "  </thead>\n",
       "  <tbody>\n",
       "    <tr>\n",
       "      <th>count</th>\n",
       "      <td>62642.00000</td>\n",
       "      <td>62642.00000</td>\n",
       "      <td>62642.00000</td>\n",
       "      <td>62642.00000</td>\n",
       "      <td>62642.00000</td>\n",
       "      <td>62642.00000</td>\n",
       "      <td>62642.00000</td>\n",
       "      <td>62642.00000</td>\n",
       "      <td>62642.00000</td>\n",
       "      <td>62642.00000</td>\n",
       "      <td>62642.00000</td>\n",
       "      <td>62642.00000</td>\n",
       "      <td>62642.00000</td>\n",
       "      <td>62642.00000</td>\n",
       "      <td>62642.00000</td>\n",
       "      <td>62642.00000</td>\n",
       "      <td>62642.00000</td>\n",
       "    </tr>\n",
       "    <tr>\n",
       "      <th>mean</th>\n",
       "      <td>216300.37365</td>\n",
       "      <td>7.20414</td>\n",
       "      <td>2.70209</td>\n",
       "      <td>136687.28130</td>\n",
       "      <td>51486.08073</td>\n",
       "      <td>19334.74659</td>\n",
       "      <td>616.10332</td>\n",
       "      <td>0.24570</td>\n",
       "      <td>0.20122</td>\n",
       "      <td>0.02878</td>\n",
       "      <td>0.00511</td>\n",
       "      <td>0.00567</td>\n",
       "      <td>0.18793</td>\n",
       "      <td>0.12822</td>\n",
       "      <td>0.01283</td>\n",
       "      <td>0.01101</td>\n",
       "      <td>0.01804</td>\n",
       "    </tr>\n",
       "    <tr>\n",
       "      <th>std</th>\n",
       "      <td>138033.74638</td>\n",
       "      <td>5.84038</td>\n",
       "      <td>3.26366</td>\n",
       "      <td>61369.27806</td>\n",
       "      <td>81874.56939</td>\n",
       "      <td>26781.29204</td>\n",
       "      <td>289.84077</td>\n",
       "      <td>0.43050</td>\n",
       "      <td>0.40092</td>\n",
       "      <td>0.16720</td>\n",
       "      <td>0.07129</td>\n",
       "      <td>0.07507</td>\n",
       "      <td>0.39066</td>\n",
       "      <td>0.33434</td>\n",
       "      <td>0.11256</td>\n",
       "      <td>0.10437</td>\n",
       "      <td>0.13309</td>\n",
       "    </tr>\n",
       "    <tr>\n",
       "      <th>min</th>\n",
       "      <td>10000.00000</td>\n",
       "      <td>0.00000</td>\n",
       "      <td>0.00000</td>\n",
       "      <td>0.00000</td>\n",
       "      <td>0.00000</td>\n",
       "      <td>0.00000</td>\n",
       "      <td>0.00000</td>\n",
       "      <td>0.00000</td>\n",
       "      <td>0.00000</td>\n",
       "      <td>0.00000</td>\n",
       "      <td>0.00000</td>\n",
       "      <td>0.00000</td>\n",
       "      <td>0.00000</td>\n",
       "      <td>0.00000</td>\n",
       "      <td>0.00000</td>\n",
       "      <td>0.00000</td>\n",
       "      <td>0.00000</td>\n",
       "    </tr>\n",
       "    <tr>\n",
       "      <th>25%</th>\n",
       "      <td>135000.00000</td>\n",
       "      <td>3.00000</td>\n",
       "      <td>0.00000</td>\n",
       "      <td>108000.00000</td>\n",
       "      <td>0.00000</td>\n",
       "      <td>1000.00000</td>\n",
       "      <td>506.00000</td>\n",
       "      <td>0.00000</td>\n",
       "      <td>0.00000</td>\n",
       "      <td>0.00000</td>\n",
       "      <td>0.00000</td>\n",
       "      <td>0.00000</td>\n",
       "      <td>0.00000</td>\n",
       "      <td>0.00000</td>\n",
       "      <td>0.00000</td>\n",
       "      <td>0.00000</td>\n",
       "      <td>0.00000</td>\n",
       "    </tr>\n",
       "    <tr>\n",
       "      <th>50%</th>\n",
       "      <td>188000.00000</td>\n",
       "      <td>6.00000</td>\n",
       "      <td>2.00000</td>\n",
       "      <td>140000.00000</td>\n",
       "      <td>25000.00000</td>\n",
       "      <td>14000.00000</td>\n",
       "      <td>807.00000</td>\n",
       "      <td>0.00000</td>\n",
       "      <td>0.00000</td>\n",
       "      <td>0.00000</td>\n",
       "      <td>0.00000</td>\n",
       "      <td>0.00000</td>\n",
       "      <td>0.00000</td>\n",
       "      <td>0.00000</td>\n",
       "      <td>0.00000</td>\n",
       "      <td>0.00000</td>\n",
       "      <td>0.00000</td>\n",
       "    </tr>\n",
       "    <tr>\n",
       "      <th>75%</th>\n",
       "      <td>264000.00000</td>\n",
       "      <td>10.00000</td>\n",
       "      <td>4.00000</td>\n",
       "      <td>170000.00000</td>\n",
       "      <td>65000.00000</td>\n",
       "      <td>26000.00000</td>\n",
       "      <td>807.00000</td>\n",
       "      <td>0.00000</td>\n",
       "      <td>0.00000</td>\n",
       "      <td>0.00000</td>\n",
       "      <td>0.00000</td>\n",
       "      <td>0.00000</td>\n",
       "      <td>0.00000</td>\n",
       "      <td>0.00000</td>\n",
       "      <td>0.00000</td>\n",
       "      <td>0.00000</td>\n",
       "      <td>0.00000</td>\n",
       "    </tr>\n",
       "    <tr>\n",
       "      <th>max</th>\n",
       "      <td>4980000.00000</td>\n",
       "      <td>69.00000</td>\n",
       "      <td>69.00000</td>\n",
       "      <td>1659870.00000</td>\n",
       "      <td>2800000.00000</td>\n",
       "      <td>1000000.00000</td>\n",
       "      <td>881.00000</td>\n",
       "      <td>1.00000</td>\n",
       "      <td>1.00000</td>\n",
       "      <td>1.00000</td>\n",
       "      <td>1.00000</td>\n",
       "      <td>1.00000</td>\n",
       "      <td>1.00000</td>\n",
       "      <td>1.00000</td>\n",
       "      <td>1.00000</td>\n",
       "      <td>1.00000</td>\n",
       "      <td>1.00000</td>\n",
       "    </tr>\n",
       "  </tbody>\n",
       "</table>\n",
       "</div>"
      ],
      "text/plain": [
       "      totalyearlycompensation yearsofexperience yearsatcompany     basesalary  \\\n",
       "count             62642.00000       62642.00000    62642.00000    62642.00000   \n",
       "mean             216300.37365           7.20414        2.70209   136687.28130   \n",
       "std              138033.74638           5.84038        3.26366    61369.27806   \n",
       "min               10000.00000           0.00000        0.00000        0.00000   \n",
       "25%              135000.00000           3.00000        0.00000   108000.00000   \n",
       "50%              188000.00000           6.00000        2.00000   140000.00000   \n",
       "75%              264000.00000          10.00000        4.00000   170000.00000   \n",
       "max             4980000.00000          69.00000       69.00000  1659870.00000   \n",
       "\n",
       "      stockgrantvalue          bonus        dmaid Masters_Degree  \\\n",
       "count     62642.00000    62642.00000  62642.00000    62642.00000   \n",
       "mean      51486.08073    19334.74659    616.10332        0.24570   \n",
       "std       81874.56939    26781.29204    289.84077        0.43050   \n",
       "min           0.00000        0.00000      0.00000        0.00000   \n",
       "25%           0.00000     1000.00000    506.00000        0.00000   \n",
       "50%       25000.00000    14000.00000    807.00000        0.00000   \n",
       "75%       65000.00000    26000.00000    807.00000        0.00000   \n",
       "max     2800000.00000  1000000.00000    881.00000        1.00000   \n",
       "\n",
       "      Bachelors_Degree Doctorate_Degree   Highschool Some_College  \\\n",
       "count      62642.00000      62642.00000  62642.00000  62642.00000   \n",
       "mean           0.20122          0.02878      0.00511      0.00567   \n",
       "std            0.40092          0.16720      0.07129      0.07507   \n",
       "min            0.00000          0.00000      0.00000      0.00000   \n",
       "25%            0.00000          0.00000      0.00000      0.00000   \n",
       "50%            0.00000          0.00000      0.00000      0.00000   \n",
       "75%            0.00000          0.00000      0.00000      0.00000   \n",
       "max            1.00000          1.00000      1.00000      1.00000   \n",
       "\n",
       "        Race_Asian   Race_White Race_Two_Or_More   Race_Black Race_Hispanic  \n",
       "count  62642.00000  62642.00000      62642.00000  62642.00000   62642.00000  \n",
       "mean       0.18793      0.12822          0.01283      0.01101       0.01804  \n",
       "std        0.39066      0.33434          0.11256      0.10437       0.13309  \n",
       "min        0.00000      0.00000          0.00000      0.00000       0.00000  \n",
       "25%        0.00000      0.00000          0.00000      0.00000       0.00000  \n",
       "50%        0.00000      0.00000          0.00000      0.00000       0.00000  \n",
       "75%        0.00000      0.00000          0.00000      0.00000       0.00000  \n",
       "max        1.00000      1.00000          1.00000      1.00000       1.00000  "
      ]
     },
     "execution_count": 22,
     "metadata": {},
     "output_type": "execute_result"
    }
   ],
   "source": [
    "salary_data.describe().apply(lambda s: s.apply('{0:.5f}'.format))"
   ]
  },
  {
   "cell_type": "code",
   "execution_count": 23,
   "metadata": {},
   "outputs": [],
   "source": [
    "salary_data.drop(columns='basesalary', inplace=True)"
   ]
  },
  {
   "cell_type": "markdown",
   "metadata": {},
   "source": [
    "## We also have a major outlier in yearsofexperience and yearsatcompany of 69. Now this could true since its only one value and very unlikely that someone would stay at the same job for 69 years im going to drop it to not skew any of our data later"
   ]
  },
  {
   "cell_type": "code",
   "execution_count": 24,
   "metadata": {},
   "outputs": [
    {
     "data": {
      "text/html": [
       "<div>\n",
       "<style scoped>\n",
       "    .dataframe tbody tr th:only-of-type {\n",
       "        vertical-align: middle;\n",
       "    }\n",
       "\n",
       "    .dataframe tbody tr th {\n",
       "        vertical-align: top;\n",
       "    }\n",
       "\n",
       "    .dataframe thead th {\n",
       "        text-align: right;\n",
       "    }\n",
       "</style>\n",
       "<table border=\"1\" class=\"dataframe\">\n",
       "  <thead>\n",
       "    <tr style=\"text-align: right;\">\n",
       "      <th></th>\n",
       "      <th>company</th>\n",
       "      <th>title</th>\n",
       "      <th>totalyearlycompensation</th>\n",
       "      <th>yearsofexperience</th>\n",
       "      <th>yearsatcompany</th>\n",
       "      <th>stockgrantvalue</th>\n",
       "      <th>bonus</th>\n",
       "      <th>gender</th>\n",
       "      <th>dmaid</th>\n",
       "      <th>Masters_Degree</th>\n",
       "      <th>Bachelors_Degree</th>\n",
       "      <th>Doctorate_Degree</th>\n",
       "      <th>Highschool</th>\n",
       "      <th>Some_College</th>\n",
       "      <th>Race_Asian</th>\n",
       "      <th>Race_White</th>\n",
       "      <th>Race_Two_Or_More</th>\n",
       "      <th>Race_Black</th>\n",
       "      <th>Race_Hispanic</th>\n",
       "      <th>country</th>\n",
       "    </tr>\n",
       "  </thead>\n",
       "  <tbody>\n",
       "    <tr>\n",
       "      <th>46988</th>\n",
       "      <td>not_FAANG</td>\n",
       "      <td>Product Designer</td>\n",
       "      <td>102000</td>\n",
       "      <td>69.0</td>\n",
       "      <td>69.0</td>\n",
       "      <td>2000.0</td>\n",
       "      <td>0.0</td>\n",
       "      <td>unknown</td>\n",
       "      <td>512.0</td>\n",
       "      <td>0</td>\n",
       "      <td>0</td>\n",
       "      <td>0</td>\n",
       "      <td>0</td>\n",
       "      <td>0</td>\n",
       "      <td>0</td>\n",
       "      <td>0</td>\n",
       "      <td>0</td>\n",
       "      <td>0</td>\n",
       "      <td>0</td>\n",
       "      <td>United States</td>\n",
       "    </tr>\n",
       "  </tbody>\n",
       "</table>\n",
       "</div>"
      ],
      "text/plain": [
       "         company             title  totalyearlycompensation  \\\n",
       "46988  not_FAANG  Product Designer                   102000   \n",
       "\n",
       "       yearsofexperience  yearsatcompany  stockgrantvalue  bonus   gender  \\\n",
       "46988               69.0            69.0           2000.0    0.0  unknown   \n",
       "\n",
       "       dmaid  Masters_Degree  Bachelors_Degree  Doctorate_Degree  Highschool  \\\n",
       "46988  512.0               0                 0                 0           0   \n",
       "\n",
       "       Some_College  Race_Asian  Race_White  Race_Two_Or_More  Race_Black  \\\n",
       "46988             0           0           0                 0           0   \n",
       "\n",
       "       Race_Hispanic        country  \n",
       "46988              0  United States  "
      ]
     },
     "execution_count": 24,
     "metadata": {},
     "output_type": "execute_result"
    }
   ],
   "source": [
    "salary_data.loc[salary_data['yearsofexperience'] == 69]"
   ]
  },
  {
   "cell_type": "code",
   "execution_count": 25,
   "metadata": {},
   "outputs": [],
   "source": [
    "salary_data.drop(index=46988, inplace=True)"
   ]
  },
  {
   "cell_type": "markdown",
   "metadata": {},
   "source": [
    "# Missing Values within ohe school columns\n",
    "## Finally, since there were some columns that were already ohe I want to check how many are missing (all rows are 0s) in order to check this I will add up all the 1s for each column and subtract that from the total amount of rows\n",
    "\n",
    "## So if more than half are missing it might be best to drop these columns as they are no use if over half are just 0s"
   ]
  },
  {
   "cell_type": "code",
   "execution_count": 26,
   "metadata": {},
   "outputs": [
    {
     "name": "stdout",
     "output_type": "stream",
     "text": [
      "Of: 62641. There are 32167 missing\n"
     ]
    }
   ],
   "source": [
    "masters_degree_values = salary_data['Masters_Degree'].value_counts()[1]\n",
    "bachelors_degree_values = salary_data['Bachelors_Degree'].value_counts()[1]\n",
    "doctorate_degree_values = salary_data['Doctorate_Degree'].value_counts()[1]\n",
    "highschool_values = salary_data['Highschool'].value_counts()[1]\n",
    "some_college_values = salary_data['Some_College'].value_counts()[1]\n",
    "total = masters_degree_values + bachelors_degree_values +doctorate_degree_values + highschool_values + some_college_values\n",
    "print(f'Of: {len(salary_data)}. There are {len(salary_data) - total} missing')\n",
    "\n",
    "salary_data.drop(columns=['Masters_Degree','Bachelors_Degree','Doctorate_Degree','Highschool','Some_College'], inplace=True)"
   ]
  },
  {
   "cell_type": "markdown",
   "metadata": {},
   "source": [
    "# Missing Values within ohe race columns"
   ]
  },
  {
   "cell_type": "markdown",
   "metadata": {},
   "source": [
    "## Even more of these are missing than the schooling columns so they will be dropped as well Since there is 40,000 of 62,000 that are missing.\n",
    "\n",
    "## Dropping these columns doesnt change much with a base KNN model ran in a test with all columns the run time took 6 minutes and gave a score of \n",
    "## Training:  0.852341136615955   \n",
    "## Testing: 0.7662578155179134 \n",
    "\n",
    "\n",
    "## With the columns dropped we get a base KNN the run time takes 56.5s this is still not where I want the run time to be. To fix the runtime the country column could be dropped as well since that is Ohe 80 separate columns and it wouldnt have to big of an impact on our socres. Also, as we can see that even with dropping the Race and schooling columns we even got better scores.\n",
    "## Training: 0.8654675813443405\n",
    "## Testing: 0.7853139750419953"
   ]
  },
  {
   "cell_type": "code",
   "execution_count": 27,
   "metadata": {},
   "outputs": [
    {
     "name": "stdout",
     "output_type": "stream",
     "text": [
      "Of: 62641. There are 40213 missing\n"
     ]
    }
   ],
   "source": [
    "salary_data.head()\n",
    "Race_Asian_values = salary_data['Race_Asian'].value_counts()[1]\n",
    "Race_White_values = salary_data['Race_White'].value_counts()[1]\n",
    "Race_Two_Or_More_values = salary_data['Race_Two_Or_More'].value_counts()[1]\n",
    "Race_Black_values = salary_data['Race_Black'].value_counts()[1]\n",
    "Race_Hispanic_values = salary_data['Race_Hispanic'].value_counts()[1]\n",
    "total = Race_Asian_values + Race_White_values + Race_Two_Or_More_values + Race_Black_values + Race_Hispanic_values \n",
    "print(f'Of: {len(salary_data)}. There are {len(salary_data) - total} missing')\n",
    "\n",
    "salary_data.drop(columns=['Race_Asian','Race_White','Race_Two_Or_More','Race_Black','Race_Hispanic'], inplace=True)"
   ]
  },
  {
   "cell_type": "code",
   "execution_count": 28,
   "metadata": {},
   "outputs": [
    {
     "data": {
      "text/html": [
       "<div>\n",
       "<style scoped>\n",
       "    .dataframe tbody tr th:only-of-type {\n",
       "        vertical-align: middle;\n",
       "    }\n",
       "\n",
       "    .dataframe tbody tr th {\n",
       "        vertical-align: top;\n",
       "    }\n",
       "\n",
       "    .dataframe thead th {\n",
       "        text-align: right;\n",
       "    }\n",
       "</style>\n",
       "<table border=\"1\" class=\"dataframe\">\n",
       "  <thead>\n",
       "    <tr style=\"text-align: right;\">\n",
       "      <th></th>\n",
       "      <th>company</th>\n",
       "      <th>title</th>\n",
       "      <th>totalyearlycompensation</th>\n",
       "      <th>yearsofexperience</th>\n",
       "      <th>yearsatcompany</th>\n",
       "      <th>stockgrantvalue</th>\n",
       "      <th>bonus</th>\n",
       "      <th>gender</th>\n",
       "      <th>dmaid</th>\n",
       "      <th>country</th>\n",
       "    </tr>\n",
       "  </thead>\n",
       "  <tbody>\n",
       "    <tr>\n",
       "      <th>0</th>\n",
       "      <td>not_FAANG</td>\n",
       "      <td>Product Manager</td>\n",
       "      <td>127000</td>\n",
       "      <td>1.5</td>\n",
       "      <td>1.5</td>\n",
       "      <td>20000.0</td>\n",
       "      <td>10000.0</td>\n",
       "      <td>unknown</td>\n",
       "      <td>807.0</td>\n",
       "      <td>United States</td>\n",
       "    </tr>\n",
       "    <tr>\n",
       "      <th>1</th>\n",
       "      <td>not_FAANG</td>\n",
       "      <td>Software Engineer</td>\n",
       "      <td>100000</td>\n",
       "      <td>5.0</td>\n",
       "      <td>3.0</td>\n",
       "      <td>0.0</td>\n",
       "      <td>0.0</td>\n",
       "      <td>unknown</td>\n",
       "      <td>807.0</td>\n",
       "      <td>United States</td>\n",
       "    </tr>\n",
       "    <tr>\n",
       "      <th>2</th>\n",
       "      <td>FAANG</td>\n",
       "      <td>Product Manager</td>\n",
       "      <td>310000</td>\n",
       "      <td>8.0</td>\n",
       "      <td>0.0</td>\n",
       "      <td>0.0</td>\n",
       "      <td>0.0</td>\n",
       "      <td>unknown</td>\n",
       "      <td>819.0</td>\n",
       "      <td>United States</td>\n",
       "    </tr>\n",
       "    <tr>\n",
       "      <th>3</th>\n",
       "      <td>FAANG</td>\n",
       "      <td>Software Engineering Manager</td>\n",
       "      <td>372000</td>\n",
       "      <td>7.0</td>\n",
       "      <td>5.0</td>\n",
       "      <td>180000.0</td>\n",
       "      <td>35000.0</td>\n",
       "      <td>unknown</td>\n",
       "      <td>807.0</td>\n",
       "      <td>United States</td>\n",
       "    </tr>\n",
       "    <tr>\n",
       "      <th>4</th>\n",
       "      <td>not_FAANG</td>\n",
       "      <td>Software Engineer</td>\n",
       "      <td>157000</td>\n",
       "      <td>5.0</td>\n",
       "      <td>3.0</td>\n",
       "      <td>0.0</td>\n",
       "      <td>0.0</td>\n",
       "      <td>unknown</td>\n",
       "      <td>807.0</td>\n",
       "      <td>United States</td>\n",
       "    </tr>\n",
       "  </tbody>\n",
       "</table>\n",
       "</div>"
      ],
      "text/plain": [
       "     company                         title  totalyearlycompensation  \\\n",
       "0  not_FAANG               Product Manager                   127000   \n",
       "1  not_FAANG             Software Engineer                   100000   \n",
       "2      FAANG               Product Manager                   310000   \n",
       "3      FAANG  Software Engineering Manager                   372000   \n",
       "4  not_FAANG             Software Engineer                   157000   \n",
       "\n",
       "   yearsofexperience  yearsatcompany  stockgrantvalue    bonus   gender  \\\n",
       "0                1.5             1.5          20000.0  10000.0  unknown   \n",
       "1                5.0             3.0              0.0      0.0  unknown   \n",
       "2                8.0             0.0              0.0      0.0  unknown   \n",
       "3                7.0             5.0         180000.0  35000.0  unknown   \n",
       "4                5.0             3.0              0.0      0.0  unknown   \n",
       "\n",
       "   dmaid        country  \n",
       "0  807.0  United States  \n",
       "1  807.0  United States  \n",
       "2  819.0  United States  \n",
       "3  807.0  United States  \n",
       "4  807.0  United States  "
      ]
     },
     "execution_count": 28,
     "metadata": {},
     "output_type": "execute_result"
    }
   ],
   "source": [
    "salary_data.head()"
   ]
  }
 ],
 "metadata": {
  "interpreter": {
   "hash": "ae86e1e3cf00bcf9d4c41097730d3c58ce0334d6c45261508081dd2e9b348fbe"
  },
  "kernelspec": {
   "display_name": "Python 3.8.5 64-bit ('base': conda)",
   "name": "python3"
  },
  "language_info": {
   "codemirror_mode": {
    "name": "ipython",
    "version": 3
   },
   "file_extension": ".py",
   "mimetype": "text/x-python",
   "name": "python",
   "nbconvert_exporter": "python",
   "pygments_lexer": "ipython3",
   "version": "3.8.5"
  },
  "orig_nbformat": 4
 },
 "nbformat": 4,
 "nbformat_minor": 2
}
