{
 "cells": [
  {
   "cell_type": "code",
   "execution_count": 68,
   "metadata": {},
   "outputs": [],
   "source": [
    "import pandas as pd\n",
    "import numpy as np\n",
    "import seaborn as sns\n",
    "import matplotlib.pyplot as plt\n",
    "from sklearn.model_selection import train_test_split, GridSearchCV\n",
    "from sklearn.neighbors import KNeighborsRegressor\n",
    "from sklearn.ensemble import RandomForestRegressor\n",
    "from sklearn.pipeline import make_pipeline\n",
    "from sklearn.metrics import mean_squared_error, mean_absolute_error, r2_score\n",
    "from sklearn.compose import make_column_transformer, make_column_selector\n",
    "from sklearn.preprocessing import  StandardScaler, OneHotEncoder\n",
    "from sklearn.compose import make_column_transformer, make_column_selector\n",
    "from sklearn.tree import DecisionTreeRegressor"
   ]
  },
  {
   "cell_type": "code",
   "execution_count": 69,
   "metadata": {},
   "outputs": [
    {
     "data": {
      "text/html": [
       "<div>\n",
       "<style scoped>\n",
       "    .dataframe tbody tr th:only-of-type {\n",
       "        vertical-align: middle;\n",
       "    }\n",
       "\n",
       "    .dataframe tbody tr th {\n",
       "        vertical-align: top;\n",
       "    }\n",
       "\n",
       "    .dataframe thead th {\n",
       "        text-align: right;\n",
       "    }\n",
       "</style>\n",
       "<table border=\"1\" class=\"dataframe\">\n",
       "  <thead>\n",
       "    <tr style=\"text-align: right;\">\n",
       "      <th></th>\n",
       "      <th>timestamp</th>\n",
       "      <th>company</th>\n",
       "      <th>level</th>\n",
       "      <th>title</th>\n",
       "      <th>totalyearlycompensation</th>\n",
       "      <th>location</th>\n",
       "      <th>yearsofexperience</th>\n",
       "      <th>yearsatcompany</th>\n",
       "      <th>tag</th>\n",
       "      <th>basesalary</th>\n",
       "      <th>...</th>\n",
       "      <th>Doctorate_Degree</th>\n",
       "      <th>Highschool</th>\n",
       "      <th>Some_College</th>\n",
       "      <th>Race_Asian</th>\n",
       "      <th>Race_White</th>\n",
       "      <th>Race_Two_Or_More</th>\n",
       "      <th>Race_Black</th>\n",
       "      <th>Race_Hispanic</th>\n",
       "      <th>Race</th>\n",
       "      <th>Education</th>\n",
       "    </tr>\n",
       "  </thead>\n",
       "  <tbody>\n",
       "    <tr>\n",
       "      <th>0</th>\n",
       "      <td>6/7/2017 11:33:27</td>\n",
       "      <td>Oracle</td>\n",
       "      <td>L3</td>\n",
       "      <td>Product Manager</td>\n",
       "      <td>127000</td>\n",
       "      <td>Redwood City, CA</td>\n",
       "      <td>1.5</td>\n",
       "      <td>1.5</td>\n",
       "      <td>NaN</td>\n",
       "      <td>107000.0</td>\n",
       "      <td>...</td>\n",
       "      <td>0</td>\n",
       "      <td>0</td>\n",
       "      <td>0</td>\n",
       "      <td>0</td>\n",
       "      <td>0</td>\n",
       "      <td>0</td>\n",
       "      <td>0</td>\n",
       "      <td>0</td>\n",
       "      <td>NaN</td>\n",
       "      <td>NaN</td>\n",
       "    </tr>\n",
       "    <tr>\n",
       "      <th>1</th>\n",
       "      <td>6/10/2017 17:11:29</td>\n",
       "      <td>eBay</td>\n",
       "      <td>SE 2</td>\n",
       "      <td>Software Engineer</td>\n",
       "      <td>100000</td>\n",
       "      <td>San Francisco, CA</td>\n",
       "      <td>5.0</td>\n",
       "      <td>3.0</td>\n",
       "      <td>NaN</td>\n",
       "      <td>0.0</td>\n",
       "      <td>...</td>\n",
       "      <td>0</td>\n",
       "      <td>0</td>\n",
       "      <td>0</td>\n",
       "      <td>0</td>\n",
       "      <td>0</td>\n",
       "      <td>0</td>\n",
       "      <td>0</td>\n",
       "      <td>0</td>\n",
       "      <td>NaN</td>\n",
       "      <td>NaN</td>\n",
       "    </tr>\n",
       "    <tr>\n",
       "      <th>2</th>\n",
       "      <td>6/11/2017 14:53:57</td>\n",
       "      <td>Amazon</td>\n",
       "      <td>L7</td>\n",
       "      <td>Product Manager</td>\n",
       "      <td>310000</td>\n",
       "      <td>Seattle, WA</td>\n",
       "      <td>8.0</td>\n",
       "      <td>0.0</td>\n",
       "      <td>NaN</td>\n",
       "      <td>155000.0</td>\n",
       "      <td>...</td>\n",
       "      <td>0</td>\n",
       "      <td>0</td>\n",
       "      <td>0</td>\n",
       "      <td>0</td>\n",
       "      <td>0</td>\n",
       "      <td>0</td>\n",
       "      <td>0</td>\n",
       "      <td>0</td>\n",
       "      <td>NaN</td>\n",
       "      <td>NaN</td>\n",
       "    </tr>\n",
       "    <tr>\n",
       "      <th>3</th>\n",
       "      <td>6/17/2017 0:23:14</td>\n",
       "      <td>Apple</td>\n",
       "      <td>M1</td>\n",
       "      <td>Software Engineering Manager</td>\n",
       "      <td>372000</td>\n",
       "      <td>Sunnyvale, CA</td>\n",
       "      <td>7.0</td>\n",
       "      <td>5.0</td>\n",
       "      <td>NaN</td>\n",
       "      <td>157000.0</td>\n",
       "      <td>...</td>\n",
       "      <td>0</td>\n",
       "      <td>0</td>\n",
       "      <td>0</td>\n",
       "      <td>0</td>\n",
       "      <td>0</td>\n",
       "      <td>0</td>\n",
       "      <td>0</td>\n",
       "      <td>0</td>\n",
       "      <td>NaN</td>\n",
       "      <td>NaN</td>\n",
       "    </tr>\n",
       "    <tr>\n",
       "      <th>4</th>\n",
       "      <td>6/20/2017 10:58:51</td>\n",
       "      <td>Microsoft</td>\n",
       "      <td>60</td>\n",
       "      <td>Software Engineer</td>\n",
       "      <td>157000</td>\n",
       "      <td>Mountain View, CA</td>\n",
       "      <td>5.0</td>\n",
       "      <td>3.0</td>\n",
       "      <td>NaN</td>\n",
       "      <td>0.0</td>\n",
       "      <td>...</td>\n",
       "      <td>0</td>\n",
       "      <td>0</td>\n",
       "      <td>0</td>\n",
       "      <td>0</td>\n",
       "      <td>0</td>\n",
       "      <td>0</td>\n",
       "      <td>0</td>\n",
       "      <td>0</td>\n",
       "      <td>NaN</td>\n",
       "      <td>NaN</td>\n",
       "    </tr>\n",
       "  </tbody>\n",
       "</table>\n",
       "<p>5 rows × 29 columns</p>\n",
       "</div>"
      ],
      "text/plain": [
       "            timestamp    company level                         title  \\\n",
       "0   6/7/2017 11:33:27     Oracle    L3               Product Manager   \n",
       "1  6/10/2017 17:11:29       eBay  SE 2             Software Engineer   \n",
       "2  6/11/2017 14:53:57     Amazon    L7               Product Manager   \n",
       "3   6/17/2017 0:23:14      Apple    M1  Software Engineering Manager   \n",
       "4  6/20/2017 10:58:51  Microsoft    60             Software Engineer   \n",
       "\n",
       "   totalyearlycompensation           location  yearsofexperience  \\\n",
       "0                   127000   Redwood City, CA                1.5   \n",
       "1                   100000  San Francisco, CA                5.0   \n",
       "2                   310000        Seattle, WA                8.0   \n",
       "3                   372000      Sunnyvale, CA                7.0   \n",
       "4                   157000  Mountain View, CA                5.0   \n",
       "\n",
       "   yearsatcompany  tag  basesalary  ...  Doctorate_Degree  Highschool  \\\n",
       "0             1.5  NaN    107000.0  ...                 0           0   \n",
       "1             3.0  NaN         0.0  ...                 0           0   \n",
       "2             0.0  NaN    155000.0  ...                 0           0   \n",
       "3             5.0  NaN    157000.0  ...                 0           0   \n",
       "4             3.0  NaN         0.0  ...                 0           0   \n",
       "\n",
       "  Some_College Race_Asian  Race_White  Race_Two_Or_More  Race_Black  \\\n",
       "0            0          0           0                 0           0   \n",
       "1            0          0           0                 0           0   \n",
       "2            0          0           0                 0           0   \n",
       "3            0          0           0                 0           0   \n",
       "4            0          0           0                 0           0   \n",
       "\n",
       "   Race_Hispanic  Race  Education  \n",
       "0              0   NaN        NaN  \n",
       "1              0   NaN        NaN  \n",
       "2              0   NaN        NaN  \n",
       "3              0   NaN        NaN  \n",
       "4              0   NaN        NaN  \n",
       "\n",
       "[5 rows x 29 columns]"
      ]
     },
     "execution_count": 69,
     "metadata": {},
     "output_type": "execute_result"
    }
   ],
   "source": [
    "salary_data= pd.read_csv('./data_files/levels_fyi_Salary_Data.csv')\n",
    "salary_data.head()"
   ]
  },
  {
   "cell_type": "code",
   "execution_count": 70,
   "metadata": {},
   "outputs": [
    {
     "data": {
      "text/plain": [
       "timestamp                   object\n",
       "company                     object\n",
       "level                       object\n",
       "title                       object\n",
       "totalyearlycompensation      int64\n",
       "location                    object\n",
       "yearsofexperience          float64\n",
       "yearsatcompany             float64\n",
       "tag                         object\n",
       "basesalary                 float64\n",
       "stockgrantvalue            float64\n",
       "bonus                      float64\n",
       "gender                      object\n",
       "otherdetails                object\n",
       "cityid                       int64\n",
       "dmaid                      float64\n",
       "rowNumber                    int64\n",
       "Masters_Degree               int64\n",
       "Bachelors_Degree             int64\n",
       "Doctorate_Degree             int64\n",
       "Highschool                   int64\n",
       "Some_College                 int64\n",
       "Race_Asian                   int64\n",
       "Race_White                   int64\n",
       "Race_Two_Or_More             int64\n",
       "Race_Black                   int64\n",
       "Race_Hispanic                int64\n",
       "Race                        object\n",
       "Education                   object\n",
       "dtype: object"
      ]
     },
     "execution_count": 70,
     "metadata": {},
     "output_type": "execute_result"
    }
   ],
   "source": [
    "salary_data.dtypes"
   ]
  },
  {
   "cell_type": "markdown",
   "metadata": {},
   "source": [
    "# Inital drops for columns without a use\n",
    "## Timestamp column doesnt have any use to me for this data set so it will be dropped\n",
    "## tag has a lot of missing values and wouldnt be any use to keep for predictions\n",
    "## race coloumn is just redunent since each race is already ohe\n",
    "## Education has to many missing values to make assumtions for what they could be. It's better to drop\n",
    "## Otherdetails is a more detailed description of their race, job title, and education same as before its reduntent so we dont need it \n",
    "## Rownumber seams like just a secondary index so it can be dropped "
   ]
  },
  {
   "cell_type": "code",
   "execution_count": 71,
   "metadata": {},
   "outputs": [],
   "source": [
    "salary_data.drop(columns=['timestamp', 'tag','Race','Education', 'otherdetails', 'rowNumber'], inplace=True)"
   ]
  },
  {
   "cell_type": "code",
   "execution_count": 72,
   "metadata": {},
   "outputs": [
    {
     "data": {
      "text/plain": [
       "company                        5\n",
       "level                        119\n",
       "title                          0\n",
       "totalyearlycompensation        0\n",
       "location                       0\n",
       "yearsofexperience              0\n",
       "yearsatcompany                 0\n",
       "basesalary                     0\n",
       "stockgrantvalue                0\n",
       "bonus                          0\n",
       "gender                     19540\n",
       "cityid                         0\n",
       "dmaid                          2\n",
       "Masters_Degree                 0\n",
       "Bachelors_Degree               0\n",
       "Doctorate_Degree               0\n",
       "Highschool                     0\n",
       "Some_College                   0\n",
       "Race_Asian                     0\n",
       "Race_White                     0\n",
       "Race_Two_Or_More               0\n",
       "Race_Black                     0\n",
       "Race_Hispanic                  0\n",
       "dtype: int64"
      ]
     },
     "execution_count": 72,
     "metadata": {},
     "output_type": "execute_result"
    }
   ],
   "source": [
    "salary_data.isnull().sum()"
   ]
  },
  {
   "cell_type": "markdown",
   "metadata": {},
   "source": [
    "## There is a lot of comapnys and when trying to Ohe later this will create way to many separte columns so instead of having all these I think it will be better to compare non FAANG companies vs the FAANG companies  (Facebook, Amazon, Apple, Nextflix, Google)"
   ]
  },
  {
   "cell_type": "code",
   "execution_count": 73,
   "metadata": {},
   "outputs": [
    {
     "data": {
      "text/plain": [
       "1632"
      ]
     },
     "execution_count": 73,
     "metadata": {},
     "output_type": "execute_result"
    }
   ],
   "source": [
    "len(salary_data['company'].unique())"
   ]
  },
  {
   "cell_type": "code",
   "execution_count": 74,
   "metadata": {},
   "outputs": [],
   "source": [
    "faang = ['Facebook', 'Amazon','Apple', 'Netflix','Google']"
   ]
  },
  {
   "cell_type": "code",
   "execution_count": 75,
   "metadata": {},
   "outputs": [],
   "source": [
    "salary_data.loc[salary_data['company'].isin(faang), 'company'] = 'FAANG'"
   ]
  },
  {
   "cell_type": "code",
   "execution_count": 76,
   "metadata": {},
   "outputs": [],
   "source": [
    "salary_data.loc[salary_data['company'] != 'FAANG', 'company'] = 'not_FAANG'"
   ]
  },
  {
   "cell_type": "code",
   "execution_count": 77,
   "metadata": {},
   "outputs": [
    {
     "data": {
      "text/plain": [
       "array(['not_FAANG', 'FAANG'], dtype=object)"
      ]
     },
     "execution_count": 77,
     "metadata": {},
     "output_type": "execute_result"
    }
   ],
   "source": [
    "salary_data['company'].unique()"
   ]
  },
  {
   "cell_type": "markdown",
   "metadata": {},
   "source": [
    "## There is a significant amount of missing values in the gender column this might be due to these workers not wanting to share that information so we will fill these with 'unknown'. and there is one lingering 'Title: Senior Software Engineer' so that will be changed to 'unknown' as well"
   ]
  },
  {
   "cell_type": "code",
   "execution_count": 78,
   "metadata": {},
   "outputs": [
    {
     "data": {
      "text/plain": [
       "array([nan, 'Male', 'Female', 'Other', 'Title: Senior Software Engineer'],\n",
       "      dtype=object)"
      ]
     },
     "execution_count": 78,
     "metadata": {},
     "output_type": "execute_result"
    }
   ],
   "source": [
    "salary_data['gender'].unique()"
   ]
  },
  {
   "cell_type": "code",
   "execution_count": 79,
   "metadata": {},
   "outputs": [],
   "source": [
    "salary_data['gender'].fillna('unknown', inplace=True)\n",
    "salary_data['gender'].replace({'Title: Senior Software Engineer': 'unknown'}, inplace=True )"
   ]
  },
  {
   "cell_type": "markdown",
   "metadata": {},
   "source": [
    "## There is a lot of different levels and there is also other columns that tell the same story ie. yearsatcompany, yearsofexp, etc. So this will be dropped"
   ]
  },
  {
   "cell_type": "code",
   "execution_count": 80,
   "metadata": {},
   "outputs": [],
   "source": [
    "len(salary_data['level'].unique())\n",
    "salary_data.drop(columns='level', inplace=True)"
   ]
  },
  {
   "cell_type": "code",
   "execution_count": 81,
   "metadata": {},
   "outputs": [
    {
     "data": {
      "text/plain": [
       "0         Redwood City, CA\n",
       "1        San Francisco, CA\n",
       "2              Seattle, WA\n",
       "3            Sunnyvale, CA\n",
       "4        Mountain View, CA\n",
       "               ...        \n",
       "62637          Seattle, WA\n",
       "62638          Redmond, WA\n",
       "62639          Seattle, WA\n",
       "62640    San Francisco, CA\n",
       "62641        Sunnyvale, CA\n",
       "Name: location, Length: 62642, dtype: object"
      ]
     },
     "execution_count": 81,
     "metadata": {},
     "output_type": "execute_result"
    }
   ],
   "source": [
    "salary_data['location']"
   ]
  },
  {
   "cell_type": "code",
   "execution_count": 82,
   "metadata": {},
   "outputs": [],
   "source": [
    "#adds new column for the countries (however some states within the usa and not under USA these will be handeled later)\n",
    "salary_data['country'] = salary_data['location'].apply(lambda x: x.split(',')[-1].strip(' '))"
   ]
  },
  {
   "cell_type": "code",
   "execution_count": 83,
   "metadata": {},
   "outputs": [
    {
     "data": {
      "text/plain": [
       "array(['CA', 'WA', 'United Kingdom', 'NY', 'Ireland', 'MD', 'OR', 'India',\n",
       "       'Belarus', 'DC', 'Canada', 'TX', 'MA', 'LA', 'PA', 'SC', 'Russia',\n",
       "       'VA', 'CO', 'NE', 'IN', 'WI', 'MN', 'Netherlands', 'Switzerland',\n",
       "       'Singapore', 'IL', 'Germany', 'NJ', 'Japan', 'AZ', 'Sweden',\n",
       "       'Australia', 'United States', 'Israel', 'Poland', 'OH', 'China',\n",
       "       'NC', 'Austria', 'Luxembourg', 'FL', 'GA', 'MO', 'Czech Republic',\n",
       "       'RI', 'UT', 'France', 'Pakistan', 'New Zealand', 'Denmark', 'MI',\n",
       "       'Hong Kong (SAR)', 'South Africa', 'Spain', 'CT',\n",
       "       'United Arab Emirates', 'NM', 'AR', 'VT', 'Hungary', 'IA',\n",
       "       'Brazil', 'Bulgaria', 'KS', 'NH', 'ID', 'Philippines', 'TN',\n",
       "       'Indonesia', 'Puerto Rico', 'Taiwan', 'DE', 'Romania', 'AL',\n",
       "       'Mexico', 'NV', 'Costa Rica', 'Marshall Islands', 'Vietnam',\n",
       "       'Panama', 'KY', 'Argentina', 'Norway', 'Moldova', 'Estonia',\n",
       "       'Kenya', 'Turkey', 'Italy', 'Lithuania', 'Nigeria', 'WV', 'South',\n",
       "       'Ukraine', 'Jordan', 'Thailand', 'OK', 'Colombia', 'Serbia',\n",
       "       'Portugal', 'Guatemala', 'Yugoslavia', 'Uruguay', 'Slovakia',\n",
       "       'Bangladesh', 'MS', 'Finland', 'ME', 'Chile', 'MT', 'ND',\n",
       "       'Malaysia', 'Latvia', 'Saudi Arabia', 'Peru',\n",
       "       'Netherlands Antilles', 'Belgium', 'Burma', 'Qatar', 'HI', 'WY',\n",
       "       'Ghana', 'Kazakhstan', 'Uzbekistan', 'Armenia', 'Morocco', 'Iraq',\n",
       "       'Trinidad and Tobago', 'Egypt'], dtype=object)"
      ]
     },
     "execution_count": 83,
     "metadata": {},
     "output_type": "execute_result"
    }
   ],
   "source": [
    "salary_data['country'].unique()"
   ]
  },
  {
   "cell_type": "markdown",
   "metadata": {},
   "source": [
    "## Replaces all the states to one United States (processing if statements within lambda functions [here](https://stackoverflow.com/questions/1585322/is-there-a-way-to-perform-if-in-pythons-lambda ))"
   ]
  },
  {
   "cell_type": "code",
   "execution_count": 84,
   "metadata": {},
   "outputs": [],
   "source": [
    "salary_data['country'] = salary_data['country'].apply(lambda x: 'United States' if len(x) == 2 else x)\n",
    "#Now we can drop the location and cityid since they are sparated by the country in the new column\n",
    "salary_data.drop(columns=['location', 'cityid'], inplace=True)"
   ]
  },
  {
   "cell_type": "markdown",
   "metadata": {},
   "source": [
    "## Wasn't to sure on what dmaId was so I looked up how others tackled this since there are 2 missing values. [Here](https://www.kaggle.com/kwangyangchia/midterm-project-for-mle/notebook?scriptVersionId=77536394&cellId=50) they used median to fill the missing values since the dmaid column isnt distruibuted to well so I will do the same. "
   ]
  },
  {
   "cell_type": "code",
   "execution_count": 85,
   "metadata": {},
   "outputs": [
    {
     "data": {
      "image/png": "[encoded data removed]",
      "text/plain": [
       "<Figure size 432x288 with 1 Axes>"
      ]
     },
     "metadata": {
      "needs_background": "light"
     },
     "output_type": "display_data"
    }
   ],
   "source": [
    "plt.hist(salary_data['dmaid'])\n",
    "plt.show()"
   ]
  },
  {
   "cell_type": "code",
   "execution_count": 86,
   "metadata": {},
   "outputs": [],
   "source": [
    "salary_data['dmaid'].fillna(salary_data['dmaid'].median(), inplace=True)"
   ]
  },
  {
   "cell_type": "markdown",
   "metadata": {},
   "source": [
    "# Final check for missing values and incorrect dtypes"
   ]
  },
  {
   "cell_type": "code",
   "execution_count": 87,
   "metadata": {},
   "outputs": [
    {
     "data": {
      "text/plain": [
       "company                    0\n",
       "title                      0\n",
       "totalyearlycompensation    0\n",
       "yearsofexperience          0\n",
       "yearsatcompany             0\n",
       "basesalary                 0\n",
       "stockgrantvalue            0\n",
       "bonus                      0\n",
       "gender                     0\n",
       "dmaid                      0\n",
       "Masters_Degree             0\n",
       "Bachelors_Degree           0\n",
       "Doctorate_Degree           0\n",
       "Highschool                 0\n",
       "Some_College               0\n",
       "Race_Asian                 0\n",
       "Race_White                 0\n",
       "Race_Two_Or_More           0\n",
       "Race_Black                 0\n",
       "Race_Hispanic              0\n",
       "country                    0\n",
       "dtype: int64"
      ]
     },
     "execution_count": 87,
     "metadata": {},
     "output_type": "execute_result"
    }
   ],
   "source": [
    "salary_data.isnull().sum()"
   ]
  },
  {
   "cell_type": "code",
   "execution_count": 88,
   "metadata": {},
   "outputs": [
    {
     "data": {
      "text/plain": [
       "company                     object\n",
       "title                       object\n",
       "totalyearlycompensation      int64\n",
       "yearsofexperience          float64\n",
       "yearsatcompany             float64\n",
       "basesalary                 float64\n",
       "stockgrantvalue            float64\n",
       "bonus                      float64\n",
       "gender                      object\n",
       "dmaid                      float64\n",
       "Masters_Degree               int64\n",
       "Bachelors_Degree             int64\n",
       "Doctorate_Degree             int64\n",
       "Highschool                   int64\n",
       "Some_College                 int64\n",
       "Race_Asian                   int64\n",
       "Race_White                   int64\n",
       "Race_Two_Or_More             int64\n",
       "Race_Black                   int64\n",
       "Race_Hispanic                int64\n",
       "country                     object\n",
       "dtype: object"
      ]
     },
     "execution_count": 88,
     "metadata": {},
     "output_type": "execute_result"
    }
   ],
   "source": [
    "salary_data.dtypes"
   ]
  },
  {
   "cell_type": "markdown",
   "metadata": {},
   "source": [
    "## Removal of scientific notation code [link](https://stackoverflow.com/questions/40347689/dataframe-describe-suppress-scientific-notation)\n",
    "\n",
    "## With looking at the .describe() the only inconsistancy I see is that the basesalary  has a min of 0 this could be due to a number of things such as unpaid interships etc. However, there is a bouns and totalyearlycompensation columns since just the totalyearly compensation would cover the basesalary alone we can drop the baseSalary column "
   ]
  },
  {
   "cell_type": "code",
   "execution_count": 89,
   "metadata": {},
   "outputs": [
    {
     "data": {
      "text/html": [
       "<div>\n",
       "<style scoped>\n",
       "    .dataframe tbody tr th:only-of-type {\n",
       "        vertical-align: middle;\n",
       "    }\n",
       "\n",
       "    .dataframe tbody tr th {\n",
       "        vertical-align: top;\n",
       "    }\n",
       "\n",
       "    .dataframe thead th {\n",
       "        text-align: right;\n",
       "    }\n",
       "</style>\n",
       "<table border=\"1\" class=\"dataframe\">\n",
       "  <thead>\n",
       "    <tr style=\"text-align: right;\">\n",
       "      <th></th>\n",
       "      <th>totalyearlycompensation</th>\n",
       "      <th>yearsofexperience</th>\n",
       "      <th>yearsatcompany</th>\n",
       "      <th>basesalary</th>\n",
       "      <th>stockgrantvalue</th>\n",
       "      <th>bonus</th>\n",
       "      <th>dmaid</th>\n",
       "      <th>Masters_Degree</th>\n",
       "      <th>Bachelors_Degree</th>\n",
       "      <th>Doctorate_Degree</th>\n",
       "      <th>Highschool</th>\n",
       "      <th>Some_College</th>\n",
       "      <th>Race_Asian</th>\n",
       "      <th>Race_White</th>\n",
       "      <th>Race_Two_Or_More</th>\n",
       "      <th>Race_Black</th>\n",
       "      <th>Race_Hispanic</th>\n",
       "    </tr>\n",
       "  </thead>\n",
       "  <tbody>\n",
       "    <tr>\n",
       "      <th>count</th>\n",
       "      <td>62642.00000</td>\n",
       "      <td>62642.00000</td>\n",
       "      <td>62642.00000</td>\n",
       "      <td>62642.00000</td>\n",
       "      <td>62642.00000</td>\n",
       "      <td>62642.00000</td>\n",
       "      <td>62642.00000</td>\n",
       "      <td>62642.00000</td>\n",
       "      <td>62642.00000</td>\n",
       "      <td>62642.00000</td>\n",
       "      <td>62642.00000</td>\n",
       "      <td>62642.00000</td>\n",
       "      <td>62642.00000</td>\n",
       "      <td>62642.00000</td>\n",
       "      <td>62642.00000</td>\n",
       "      <td>62642.00000</td>\n",
       "      <td>62642.00000</td>\n",
       "    </tr>\n",
       "    <tr>\n",
       "      <th>mean</th>\n",
       "      <td>216300.37365</td>\n",
       "      <td>7.20414</td>\n",
       "      <td>2.70209</td>\n",
       "      <td>136687.28130</td>\n",
       "      <td>51486.08073</td>\n",
       "      <td>19334.74659</td>\n",
       "      <td>616.10332</td>\n",
       "      <td>0.24570</td>\n",
       "      <td>0.20122</td>\n",
       "      <td>0.02878</td>\n",
       "      <td>0.00511</td>\n",
       "      <td>0.00567</td>\n",
       "      <td>0.18793</td>\n",
       "      <td>0.12822</td>\n",
       "      <td>0.01283</td>\n",
       "      <td>0.01101</td>\n",
       "      <td>0.01804</td>\n",
       "    </tr>\n",
       "    <tr>\n",
       "      <th>std</th>\n",
       "      <td>138033.74638</td>\n",
       "      <td>5.84038</td>\n",
       "      <td>3.26366</td>\n",
       "      <td>61369.27806</td>\n",
       "      <td>81874.56939</td>\n",
       "      <td>26781.29204</td>\n",
       "      <td>289.84077</td>\n",
       "      <td>0.43050</td>\n",
       "      <td>0.40092</td>\n",
       "      <td>0.16720</td>\n",
       "      <td>0.07129</td>\n",
       "      <td>0.07507</td>\n",
       "      <td>0.39066</td>\n",
       "      <td>0.33434</td>\n",
       "      <td>0.11256</td>\n",
       "      <td>0.10437</td>\n",
       "      <td>0.13309</td>\n",
       "    </tr>\n",
       "    <tr>\n",
       "      <th>min</th>\n",
       "      <td>10000.00000</td>\n",
       "      <td>0.00000</td>\n",
       "      <td>0.00000</td>\n",
       "      <td>0.00000</td>\n",
       "      <td>0.00000</td>\n",
       "      <td>0.00000</td>\n",
       "      <td>0.00000</td>\n",
       "      <td>0.00000</td>\n",
       "      <td>0.00000</td>\n",
       "      <td>0.00000</td>\n",
       "      <td>0.00000</td>\n",
       "      <td>0.00000</td>\n",
       "      <td>0.00000</td>\n",
       "      <td>0.00000</td>\n",
       "      <td>0.00000</td>\n",
       "      <td>0.00000</td>\n",
       "      <td>0.00000</td>\n",
       "    </tr>\n",
       "    <tr>\n",
       "      <th>25%</th>\n",
       "      <td>135000.00000</td>\n",
       "      <td>3.00000</td>\n",
       "      <td>0.00000</td>\n",
       "      <td>108000.00000</td>\n",
       "      <td>0.00000</td>\n",
       "      <td>1000.00000</td>\n",
       "      <td>506.00000</td>\n",
       "      <td>0.00000</td>\n",
       "      <td>0.00000</td>\n",
       "      <td>0.00000</td>\n",
       "      <td>0.00000</td>\n",
       "      <td>0.00000</td>\n",
       "      <td>0.00000</td>\n",
       "      <td>0.00000</td>\n",
       "      <td>0.00000</td>\n",
       "      <td>0.00000</td>\n",
       "      <td>0.00000</td>\n",
       "    </tr>\n",
       "    <tr>\n",
       "      <th>50%</th>\n",
       "      <td>188000.00000</td>\n",
       "      <td>6.00000</td>\n",
       "      <td>2.00000</td>\n",
       "      <td>140000.00000</td>\n",
       "      <td>25000.00000</td>\n",
       "      <td>14000.00000</td>\n",
       "      <td>807.00000</td>\n",
       "      <td>0.00000</td>\n",
       "      <td>0.00000</td>\n",
       "      <td>0.00000</td>\n",
       "      <td>0.00000</td>\n",
       "      <td>0.00000</td>\n",
       "      <td>0.00000</td>\n",
       "      <td>0.00000</td>\n",
       "      <td>0.00000</td>\n",
       "      <td>0.00000</td>\n",
       "      <td>0.00000</td>\n",
       "    </tr>\n",
       "    <tr>\n",
       "      <th>75%</th>\n",
       "      <td>264000.00000</td>\n",
       "      <td>10.00000</td>\n",
       "      <td>4.00000</td>\n",
       "      <td>170000.00000</td>\n",
       "      <td>65000.00000</td>\n",
       "      <td>26000.00000</td>\n",
       "      <td>807.00000</td>\n",
       "      <td>0.00000</td>\n",
       "      <td>0.00000</td>\n",
       "      <td>0.00000</td>\n",
       "      <td>0.00000</td>\n",
       "      <td>0.00000</td>\n",
       "      <td>0.00000</td>\n",
       "      <td>0.00000</td>\n",
       "      <td>0.00000</td>\n",
       "      <td>0.00000</td>\n",
       "      <td>0.00000</td>\n",
       "    </tr>\n",
       "    <tr>\n",
       "      <th>max</th>\n",
       "      <td>4980000.00000</td>\n",
       "      <td>69.00000</td>\n",
       "      <td>69.00000</td>\n",
       "      <td>1659870.00000</td>\n",
       "      <td>2800000.00000</td>\n",
       "      <td>1000000.00000</td>\n",
       "      <td>881.00000</td>\n",
       "      <td>1.00000</td>\n",
       "      <td>1.00000</td>\n",
       "      <td>1.00000</td>\n",
       "      <td>1.00000</td>\n",
       "      <td>1.00000</td>\n",
       "      <td>1.00000</td>\n",
       "      <td>1.00000</td>\n",
       "      <td>1.00000</td>\n",
       "      <td>1.00000</td>\n",
       "      <td>1.00000</td>\n",
       "    </tr>\n",
       "  </tbody>\n",
       "</table>\n",
       "</div>"
      ],
      "text/plain": [
       "      totalyearlycompensation yearsofexperience yearsatcompany     basesalary  \\\n",
       "count             62642.00000       62642.00000    62642.00000    62642.00000   \n",
       "mean             216300.37365           7.20414        2.70209   136687.28130   \n",
       "std              138033.74638           5.84038        3.26366    61369.27806   \n",
       "min               10000.00000           0.00000        0.00000        0.00000   \n",
       "25%              135000.00000           3.00000        0.00000   108000.00000   \n",
       "50%              188000.00000           6.00000        2.00000   140000.00000   \n",
       "75%              264000.00000          10.00000        4.00000   170000.00000   \n",
       "max             4980000.00000          69.00000       69.00000  1659870.00000   \n",
       "\n",
       "      stockgrantvalue          bonus        dmaid Masters_Degree  \\\n",
       "count     62642.00000    62642.00000  62642.00000    62642.00000   \n",
       "mean      51486.08073    19334.74659    616.10332        0.24570   \n",
       "std       81874.56939    26781.29204    289.84077        0.43050   \n",
       "min           0.00000        0.00000      0.00000        0.00000   \n",
       "25%           0.00000     1000.00000    506.00000        0.00000   \n",
       "50%       25000.00000    14000.00000    807.00000        0.00000   \n",
       "75%       65000.00000    26000.00000    807.00000        0.00000   \n",
       "max     2800000.00000  1000000.00000    881.00000        1.00000   \n",
       "\n",
       "      Bachelors_Degree Doctorate_Degree   Highschool Some_College  \\\n",
       "count      62642.00000      62642.00000  62642.00000  62642.00000   \n",
       "mean           0.20122          0.02878      0.00511      0.00567   \n",
       "std            0.40092          0.16720      0.07129      0.07507   \n",
       "min            0.00000          0.00000      0.00000      0.00000   \n",
       "25%            0.00000          0.00000      0.00000      0.00000   \n",
       "50%            0.00000          0.00000      0.00000      0.00000   \n",
       "75%            0.00000          0.00000      0.00000      0.00000   \n",
       "max            1.00000          1.00000      1.00000      1.00000   \n",
       "\n",
       "        Race_Asian   Race_White Race_Two_Or_More   Race_Black Race_Hispanic  \n",
       "count  62642.00000  62642.00000      62642.00000  62642.00000   62642.00000  \n",
       "mean       0.18793      0.12822          0.01283      0.01101       0.01804  \n",
       "std        0.39066      0.33434          0.11256      0.10437       0.13309  \n",
       "min        0.00000      0.00000          0.00000      0.00000       0.00000  \n",
       "25%        0.00000      0.00000          0.00000      0.00000       0.00000  \n",
       "50%        0.00000      0.00000          0.00000      0.00000       0.00000  \n",
       "75%        0.00000      0.00000          0.00000      0.00000       0.00000  \n",
       "max        1.00000      1.00000          1.00000      1.00000       1.00000  "
      ]
     },
     "execution_count": 89,
     "metadata": {},
     "output_type": "execute_result"
    }
   ],
   "source": [
    "salary_data.describe().apply(lambda s: s.apply('{0:.5f}'.format))"
   ]
  },
  {
   "cell_type": "code",
   "execution_count": 90,
   "metadata": {},
   "outputs": [],
   "source": [
    "salary_data.drop(columns='basesalary', inplace=True)"
   ]
  },
  {
   "cell_type": "markdown",
   "metadata": {},
   "source": [
    "## We also have a major outlier in yearsofexperience and yearsatcompany of 69. Now this could true since its only one value and very unlikely that someone would stay at the same job for 69 years im going to drop it to not skew any of our data later"
   ]
  },
  {
   "cell_type": "code",
   "execution_count": 91,
   "metadata": {},
   "outputs": [
    {
     "data": {
      "text/html": [
       "<div>\n",
       "<style scoped>\n",
       "    .dataframe tbody tr th:only-of-type {\n",
       "        vertical-align: middle;\n",
       "    }\n",
       "\n",
       "    .dataframe tbody tr th {\n",
       "        vertical-align: top;\n",
       "    }\n",
       "\n",
       "    .dataframe thead th {\n",
       "        text-align: right;\n",
       "    }\n",
       "</style>\n",
       "<table border=\"1\" class=\"dataframe\">\n",
       "  <thead>\n",
       "    <tr style=\"text-align: right;\">\n",
       "      <th></th>\n",
       "      <th>company</th>\n",
       "      <th>title</th>\n",
       "      <th>totalyearlycompensation</th>\n",
       "      <th>yearsofexperience</th>\n",
       "      <th>yearsatcompany</th>\n",
       "      <th>stockgrantvalue</th>\n",
       "      <th>bonus</th>\n",
       "      <th>gender</th>\n",
       "      <th>dmaid</th>\n",
       "      <th>Masters_Degree</th>\n",
       "      <th>Bachelors_Degree</th>\n",
       "      <th>Doctorate_Degree</th>\n",
       "      <th>Highschool</th>\n",
       "      <th>Some_College</th>\n",
       "      <th>Race_Asian</th>\n",
       "      <th>Race_White</th>\n",
       "      <th>Race_Two_Or_More</th>\n",
       "      <th>Race_Black</th>\n",
       "      <th>Race_Hispanic</th>\n",
       "      <th>country</th>\n",
       "    </tr>\n",
       "  </thead>\n",
       "  <tbody>\n",
       "    <tr>\n",
       "      <th>46988</th>\n",
       "      <td>not_FAANG</td>\n",
       "      <td>Product Designer</td>\n",
       "      <td>102000</td>\n",
       "      <td>69.0</td>\n",
       "      <td>69.0</td>\n",
       "      <td>2000.0</td>\n",
       "      <td>0.0</td>\n",
       "      <td>unknown</td>\n",
       "      <td>512.0</td>\n",
       "      <td>0</td>\n",
       "      <td>0</td>\n",
       "      <td>0</td>\n",
       "      <td>0</td>\n",
       "      <td>0</td>\n",
       "      <td>0</td>\n",
       "      <td>0</td>\n",
       "      <td>0</td>\n",
       "      <td>0</td>\n",
       "      <td>0</td>\n",
       "      <td>United States</td>\n",
       "    </tr>\n",
       "  </tbody>\n",
       "</table>\n",
       "</div>"
      ],
      "text/plain": [
       "         company             title  totalyearlycompensation  \\\n",
       "46988  not_FAANG  Product Designer                   102000   \n",
       "\n",
       "       yearsofexperience  yearsatcompany  stockgrantvalue  bonus   gender  \\\n",
       "46988               69.0            69.0           2000.0    0.0  unknown   \n",
       "\n",
       "       dmaid  Masters_Degree  Bachelors_Degree  Doctorate_Degree  Highschool  \\\n",
       "46988  512.0               0                 0                 0           0   \n",
       "\n",
       "       Some_College  Race_Asian  Race_White  Race_Two_Or_More  Race_Black  \\\n",
       "46988             0           0           0                 0           0   \n",
       "\n",
       "       Race_Hispanic        country  \n",
       "46988              0  United States  "
      ]
     },
     "execution_count": 91,
     "metadata": {},
     "output_type": "execute_result"
    }
   ],
   "source": [
    "salary_data.loc[salary_data['yearsofexperience'] == 69]"
   ]
  },
  {
   "cell_type": "code",
   "execution_count": 92,
   "metadata": {},
   "outputs": [],
   "source": [
    "salary_data.drop(index=46988, inplace=True)"
   ]
  },
  {
   "cell_type": "markdown",
   "metadata": {},
   "source": [
    "# Missing Values within ohe school columns\n",
    "## Finally, since there were some columns that were already ohe I want to check how many are missing (all rows are 0s) in order to check this I will add up all the 1s for each column and subtract that from the total amount of rows\n",
    "\n",
    "## So if more than half are missing it might be best to drop these columns as they are no use if over half are just 0s"
   ]
  },
  {
   "cell_type": "code",
   "execution_count": 93,
   "metadata": {},
   "outputs": [
    {
     "name": "stdout",
     "output_type": "stream",
     "text": [
      "Of: 62641. There are 32167 missing\n"
     ]
    }
   ],
   "source": [
    "masters_degree_values = salary_data['Masters_Degree'].value_counts()[1]\n",
    "bachelors_degree_values = salary_data['Bachelors_Degree'].value_counts()[1]\n",
    "doctorate_degree_values = salary_data['Doctorate_Degree'].value_counts()[1]\n",
    "highschool_values = salary_data['Highschool'].value_counts()[1]\n",
    "some_college_values = salary_data['Some_College'].value_counts()[1]\n",
    "total = masters_degree_values + bachelors_degree_values +doctorate_degree_values + highschool_values + some_college_values\n",
    "print(f'Of: {len(salary_data)}. There are {len(salary_data) - total} missing')\n",
    "\n",
    "salary_data.drop(columns=['Masters_Degree','Bachelors_Degree','Doctorate_Degree','Highschool','Some_College'], inplace=True)"
   ]
  },
  {
   "cell_type": "markdown",
   "metadata": {},
   "source": [
    "# Missing Values within ohe race columns"
   ]
  },
  {
   "cell_type": "markdown",
   "metadata": {},
   "source": [
    "## Even more of these are missing than the schooling columns so they will be dropped as well Since there is 40,000 of 62,000 that are missing.\n",
    "\n",
    "## Dropping these columns doesnt change much with a base KNN model ran in a test with all columns the run time took 6 minutes and gave a score of \n",
    "## Training:  0.852341136615955   \n",
    "## Testing: 0.7662578155179134 \n",
    "\n",
    "\n",
    "## With the columns dropped we get a base KNN the run time takes 56.5s this is still not where I want the run time to be. To fix the runtime the country column could be dropped as well since that is Ohe 80 separate columns and it wouldnt have to big of an impact on our socres. Also, as we can see that even with dropping the Race and schooling columns we even got better scores.\n",
    "## Training: 0.8654675813443405\n",
    "## Testing: 0.7853139750419953"
   ]
  },
  {
   "cell_type": "code",
   "execution_count": 94,
   "metadata": {},
   "outputs": [
    {
     "name": "stdout",
     "output_type": "stream",
     "text": [
      "Of: 62641. There are 40213 missing\n"
     ]
    }
   ],
   "source": [
    "salary_data.head()\n",
    "Race_Asian_values = salary_data['Race_Asian'].value_counts()[1]\n",
    "Race_White_values = salary_data['Race_White'].value_counts()[1]\n",
    "Race_Two_Or_More_values = salary_data['Race_Two_Or_More'].value_counts()[1]\n",
    "Race_Black_values = salary_data['Race_Black'].value_counts()[1]\n",
    "Race_Hispanic_values = salary_data['Race_Hispanic'].value_counts()[1]\n",
    "total = Race_Asian_values + Race_White_values + Race_Two_Or_More_values + Race_Black_values + Race_Hispanic_values \n",
    "print(f'Of: {len(salary_data)}. There are {len(salary_data) - total} missing')\n",
    "\n",
    "salary_data.drop(columns=['Race_Asian','Race_White','Race_Two_Or_More','Race_Black','Race_Hispanic'], inplace=True)"
   ]
  },
  {
   "cell_type": "code",
   "execution_count": 95,
   "metadata": {},
   "outputs": [
    {
     "data": {
      "text/html": [
       "<div>\n",
       "<style scoped>\n",
       "    .dataframe tbody tr th:only-of-type {\n",
       "        vertical-align: middle;\n",
       "    }\n",
       "\n",
       "    .dataframe tbody tr th {\n",
       "        vertical-align: top;\n",
       "    }\n",
       "\n",
       "    .dataframe thead th {\n",
       "        text-align: right;\n",
       "    }\n",
       "</style>\n",
       "<table border=\"1\" class=\"dataframe\">\n",
       "  <thead>\n",
       "    <tr style=\"text-align: right;\">\n",
       "      <th></th>\n",
       "      <th>company</th>\n",
       "      <th>title</th>\n",
       "      <th>totalyearlycompensation</th>\n",
       "      <th>yearsofexperience</th>\n",
       "      <th>yearsatcompany</th>\n",
       "      <th>stockgrantvalue</th>\n",
       "      <th>bonus</th>\n",
       "      <th>gender</th>\n",
       "      <th>dmaid</th>\n",
       "      <th>country</th>\n",
       "    </tr>\n",
       "  </thead>\n",
       "  <tbody>\n",
       "    <tr>\n",
       "      <th>0</th>\n",
       "      <td>not_FAANG</td>\n",
       "      <td>Product Manager</td>\n",
       "      <td>127000</td>\n",
       "      <td>1.5</td>\n",
       "      <td>1.5</td>\n",
       "      <td>20000.0</td>\n",
       "      <td>10000.0</td>\n",
       "      <td>unknown</td>\n",
       "      <td>807.0</td>\n",
       "      <td>United States</td>\n",
       "    </tr>\n",
       "    <tr>\n",
       "      <th>1</th>\n",
       "      <td>not_FAANG</td>\n",
       "      <td>Software Engineer</td>\n",
       "      <td>100000</td>\n",
       "      <td>5.0</td>\n",
       "      <td>3.0</td>\n",
       "      <td>0.0</td>\n",
       "      <td>0.0</td>\n",
       "      <td>unknown</td>\n",
       "      <td>807.0</td>\n",
       "      <td>United States</td>\n",
       "    </tr>\n",
       "    <tr>\n",
       "      <th>2</th>\n",
       "      <td>FAANG</td>\n",
       "      <td>Product Manager</td>\n",
       "      <td>310000</td>\n",
       "      <td>8.0</td>\n",
       "      <td>0.0</td>\n",
       "      <td>0.0</td>\n",
       "      <td>0.0</td>\n",
       "      <td>unknown</td>\n",
       "      <td>819.0</td>\n",
       "      <td>United States</td>\n",
       "    </tr>\n",
       "    <tr>\n",
       "      <th>3</th>\n",
       "      <td>FAANG</td>\n",
       "      <td>Software Engineering Manager</td>\n",
       "      <td>372000</td>\n",
       "      <td>7.0</td>\n",
       "      <td>5.0</td>\n",
       "      <td>180000.0</td>\n",
       "      <td>35000.0</td>\n",
       "      <td>unknown</td>\n",
       "      <td>807.0</td>\n",
       "      <td>United States</td>\n",
       "    </tr>\n",
       "    <tr>\n",
       "      <th>4</th>\n",
       "      <td>not_FAANG</td>\n",
       "      <td>Software Engineer</td>\n",
       "      <td>157000</td>\n",
       "      <td>5.0</td>\n",
       "      <td>3.0</td>\n",
       "      <td>0.0</td>\n",
       "      <td>0.0</td>\n",
       "      <td>unknown</td>\n",
       "      <td>807.0</td>\n",
       "      <td>United States</td>\n",
       "    </tr>\n",
       "  </tbody>\n",
       "</table>\n",
       "</div>"
      ],
      "text/plain": [
       "     company                         title  totalyearlycompensation  \\\n",
       "0  not_FAANG               Product Manager                   127000   \n",
       "1  not_FAANG             Software Engineer                   100000   \n",
       "2      FAANG               Product Manager                   310000   \n",
       "3      FAANG  Software Engineering Manager                   372000   \n",
       "4  not_FAANG             Software Engineer                   157000   \n",
       "\n",
       "   yearsofexperience  yearsatcompany  stockgrantvalue    bonus   gender  \\\n",
       "0                1.5             1.5          20000.0  10000.0  unknown   \n",
       "1                5.0             3.0              0.0      0.0  unknown   \n",
       "2                8.0             0.0              0.0      0.0  unknown   \n",
       "3                7.0             5.0         180000.0  35000.0  unknown   \n",
       "4                5.0             3.0              0.0      0.0  unknown   \n",
       "\n",
       "   dmaid        country  \n",
       "0  807.0  United States  \n",
       "1  807.0  United States  \n",
       "2  819.0  United States  \n",
       "3  807.0  United States  \n",
       "4  807.0  United States  "
      ]
     },
     "execution_count": 95,
     "metadata": {},
     "output_type": "execute_result"
    }
   ],
   "source": [
    "salary_data.head()"
   ]
  },
  {
   "cell_type": "markdown",
   "metadata": {},
   "source": [
    "# Corr Plot"
   ]
  },
  {
   "cell_type": "code",
   "execution_count": 96,
   "metadata": {},
   "outputs": [
    {
     "data": {
      "image/png": "[encoded data removed]",
      "text/plain": [
       "<Figure size 1080x720 with 2 Axes>"
      ]
     },
     "metadata": {
      "needs_background": "light"
     },
     "output_type": "display_data"
    },
    {
     "name": "stdout",
     "output_type": "stream",
     "text": [
      "money/dollar values have high corr. Same with years of exp and years at company\n"
     ]
    }
   ],
   "source": [
    "corr = salary_data.corr()\n",
    "plt.figure(figsize=(15,10))\n",
    "sns.heatmap(corr, annot=True, cmap='Blues')\n",
    "plt.show()\n",
    "print('money/dollar values have high corr. Same with years of exp and years at company')"
   ]
  },
  {
   "cell_type": "code",
   "execution_count": 97,
   "metadata": {},
   "outputs": [
    {
     "data": {
      "image/png": "[encoded data removed]",
      "text/plain": [
       "<Figure size 576x432 with 1 Axes>"
      ]
     },
     "metadata": {
      "needs_background": "light"
     },
     "output_type": "display_data"
    },
    {
     "name": "stdout",
     "output_type": "stream",
     "text": [
      "We have to keep in mind that even though Faang companies are higher the ratio of 5 companies in FAANG to all the others not in FAANG is very uneven\n"
     ]
    }
   ],
   "source": [
    "plt.figure(figsize=(8,6))\n",
    "sns.barplot(salary_data['company'], salary_data['totalyearlycompensation'])\n",
    "plt.ylabel('Average Yearly Compensation')\n",
    "plt.title('Average Yearly Compensation at FAANG Companies and non FAANG Companies')\n",
    "plt.show()\n",
    "print('We have to keep in mind that even though Faang companies are higher the ratio of 5 companies in FAANG to all the others not in FAANG is very uneven')"
   ]
  },
  {
   "cell_type": "code",
   "execution_count": 98,
   "metadata": {},
   "outputs": [
    {
     "data": {
      "image/png": "[encoded data removed]",
      "text/plain": [
       "<Figure size 1080x576 with 1 Axes>"
      ]
     },
     "metadata": {
      "needs_background": "light"
     },
     "output_type": "display_data"
    },
    {
     "name": "stdout",
     "output_type": "stream",
     "text": [
      "Kept consistant from the graph above all job titles at FAANG are paid more than positions at non FAANG companies. \n",
      "Also, we can see that the top 3 paid positions are softwear Engineer, Product Manager, and Hardware Engineer. \n"
     ]
    }
   ],
   "source": [
    "plt.figure(figsize=(15,8))\n",
    "bar_plot = sns.barplot(salary_data['title'], salary_data['totalyearlycompensation'], hue=salary_data['company'])\n",
    "plt.ylabel('Average Yearly Compensation')\n",
    "plt.title('Yearly Compensation From Each Job Title')\n",
    "plt.xlabel('Job Title')\n",
    "plt.xticks(rotation=45, ha='right',rotation_mode='anchor')\n",
    "plt.grid()\n",
    "plt.show()\n",
    "print('''Kept consistant from the graph above all job titles at FAANG are paid more than positions at non FAANG companies. \n",
    "Also, we can see that the top 3 paid positions are softwear Engineer, Product Manager, and Hardware Engineer. ''')"
   ]
  },
  {
   "cell_type": "code",
   "execution_count": 99,
   "metadata": {},
   "outputs": [
    {
     "data": {
      "image/png": "[encoded data removed]",
      "text/plain": [
       "<Figure size 1080x576 with 1 Axes>"
      ]
     },
     "metadata": {
      "needs_background": "light"
     },
     "output_type": "display_data"
    },
    {
     "name": "stdout",
     "output_type": "stream",
     "text": [
      "From this graph its clear that software engineers stay the longest at their jobs. This is mostlikely do to the fact that they are the highest paid job out of all jobs listed\n"
     ]
    }
   ],
   "source": [
    "plt.figure(figsize=(15,8))\n",
    "sns.boxenplot(salary_data['title'], salary_data['yearsatcompany'])\n",
    "plt.xticks(rotation= 90)\n",
    "plt.title('Comparison of Job Titles And How Long They Stay With Their Company')\n",
    "plt.ylabel('Years At Company')\n",
    "plt.grid(axis='y')\n",
    "plt.show()\n",
    "print('From this graph its clear that software engineers stay the longest at their jobs. This is mostlikely do to the fact that they are the highest paid job out of all jobs listed')"
   ]
  },
  {
   "cell_type": "markdown",
   "metadata": {},
   "source": [
    "## Countries and years at job"
   ]
  },
  {
   "cell_type": "code",
   "execution_count": 100,
   "metadata": {},
   "outputs": [
    {
     "data": {
      "text/html": [
       "<div>\n",
       "<style scoped>\n",
       "    .dataframe tbody tr th:only-of-type {\n",
       "        vertical-align: middle;\n",
       "    }\n",
       "\n",
       "    .dataframe tbody tr th {\n",
       "        vertical-align: top;\n",
       "    }\n",
       "\n",
       "    .dataframe thead th {\n",
       "        text-align: right;\n",
       "    }\n",
       "</style>\n",
       "<table border=\"1\" class=\"dataframe\">\n",
       "  <thead>\n",
       "    <tr style=\"text-align: right;\">\n",
       "      <th></th>\n",
       "      <th>company</th>\n",
       "      <th>title</th>\n",
       "      <th>totalyearlycompensation</th>\n",
       "      <th>yearsofexperience</th>\n",
       "      <th>yearsatcompany</th>\n",
       "      <th>stockgrantvalue</th>\n",
       "      <th>bonus</th>\n",
       "      <th>gender</th>\n",
       "      <th>dmaid</th>\n",
       "      <th>country</th>\n",
       "    </tr>\n",
       "  </thead>\n",
       "  <tbody>\n",
       "    <tr>\n",
       "      <th>0</th>\n",
       "      <td>not_FAANG</td>\n",
       "      <td>Product Manager</td>\n",
       "      <td>127000</td>\n",
       "      <td>1.5</td>\n",
       "      <td>1.5</td>\n",
       "      <td>20000.0</td>\n",
       "      <td>10000.0</td>\n",
       "      <td>unknown</td>\n",
       "      <td>807.0</td>\n",
       "      <td>United States</td>\n",
       "    </tr>\n",
       "    <tr>\n",
       "      <th>1</th>\n",
       "      <td>not_FAANG</td>\n",
       "      <td>Software Engineer</td>\n",
       "      <td>100000</td>\n",
       "      <td>5.0</td>\n",
       "      <td>3.0</td>\n",
       "      <td>0.0</td>\n",
       "      <td>0.0</td>\n",
       "      <td>unknown</td>\n",
       "      <td>807.0</td>\n",
       "      <td>United States</td>\n",
       "    </tr>\n",
       "    <tr>\n",
       "      <th>2</th>\n",
       "      <td>FAANG</td>\n",
       "      <td>Product Manager</td>\n",
       "      <td>310000</td>\n",
       "      <td>8.0</td>\n",
       "      <td>0.0</td>\n",
       "      <td>0.0</td>\n",
       "      <td>0.0</td>\n",
       "      <td>unknown</td>\n",
       "      <td>819.0</td>\n",
       "      <td>United States</td>\n",
       "    </tr>\n",
       "    <tr>\n",
       "      <th>3</th>\n",
       "      <td>FAANG</td>\n",
       "      <td>Software Engineering Manager</td>\n",
       "      <td>372000</td>\n",
       "      <td>7.0</td>\n",
       "      <td>5.0</td>\n",
       "      <td>180000.0</td>\n",
       "      <td>35000.0</td>\n",
       "      <td>unknown</td>\n",
       "      <td>807.0</td>\n",
       "      <td>United States</td>\n",
       "    </tr>\n",
       "    <tr>\n",
       "      <th>4</th>\n",
       "      <td>not_FAANG</td>\n",
       "      <td>Software Engineer</td>\n",
       "      <td>157000</td>\n",
       "      <td>5.0</td>\n",
       "      <td>3.0</td>\n",
       "      <td>0.0</td>\n",
       "      <td>0.0</td>\n",
       "      <td>unknown</td>\n",
       "      <td>807.0</td>\n",
       "      <td>United States</td>\n",
       "    </tr>\n",
       "  </tbody>\n",
       "</table>\n",
       "</div>"
      ],
      "text/plain": [
       "     company                         title  totalyearlycompensation  \\\n",
       "0  not_FAANG               Product Manager                   127000   \n",
       "1  not_FAANG             Software Engineer                   100000   \n",
       "2      FAANG               Product Manager                   310000   \n",
       "3      FAANG  Software Engineering Manager                   372000   \n",
       "4  not_FAANG             Software Engineer                   157000   \n",
       "\n",
       "   yearsofexperience  yearsatcompany  stockgrantvalue    bonus   gender  \\\n",
       "0                1.5             1.5          20000.0  10000.0  unknown   \n",
       "1                5.0             3.0              0.0      0.0  unknown   \n",
       "2                8.0             0.0              0.0      0.0  unknown   \n",
       "3                7.0             5.0         180000.0  35000.0  unknown   \n",
       "4                5.0             3.0              0.0      0.0  unknown   \n",
       "\n",
       "   dmaid        country  \n",
       "0  807.0  United States  \n",
       "1  807.0  United States  \n",
       "2  819.0  United States  \n",
       "3  807.0  United States  \n",
       "4  807.0  United States  "
      ]
     },
     "execution_count": 100,
     "metadata": {},
     "output_type": "execute_result"
    }
   ],
   "source": [
    "salary_data.head()"
   ]
  },
  {
   "cell_type": "code",
   "execution_count": 101,
   "metadata": {},
   "outputs": [
    {
     "data": {
      "image/png": "[encoded data removed]",
      "text/plain": [
       "<Figure size 1080x576 with 1 Axes>"
      ]
     },
     "metadata": {
      "needs_background": "light"
     },
     "output_type": "display_data"
    }
   ],
   "source": [
    "plt.figure(figsize=(15,8))\n",
    "sns.barplot(salary_data['title'], salary_data['yearsatcompany'], hue =salary_data['company'], ci=False)\n",
    "plt.xticks(rotation=45, ha='right',rotation_mode='anchor')\n",
    "plt.ylabel('Years At Company')\n",
    "plt.xlabel('Job Title')\n",
    "plt.title('Average Years Each Job Title Says At Their Company ')\n",
    "plt.grid()\n",
    "plt.show()"
   ]
  },
  {
   "cell_type": "markdown",
   "metadata": {},
   "source": [
    "# Machine Learning"
   ]
  },
  {
   "cell_type": "markdown",
   "metadata": {},
   "source": [
    "## Dropping the main target but also dropping the countries column so the model run time is better and its not ohe 80 separate columns the job title column could also be dropped for even better run times and I chose do do this one as well since even in the upper 17s for runtime still isnt the best but with both dropped the run time is around 5s"
   ]
  },
  {
   "cell_type": "code",
   "execution_count": 102,
   "metadata": {},
   "outputs": [],
   "source": [
    "X = salary_data.drop(columns=['totalyearlycompensation', 'country', 'title'])\n",
    "y = salary_data['totalyearlycompensation']"
   ]
  },
  {
   "cell_type": "code",
   "execution_count": 103,
   "metadata": {},
   "outputs": [],
   "source": [
    "X_train, X_test, y_train, y_test = train_test_split(X, y, random_state=42)"
   ]
  },
  {
   "cell_type": "markdown",
   "metadata": {},
   "source": [
    "## Ohe for gender and company columns"
   ]
  },
  {
   "cell_type": "code",
   "execution_count": 104,
   "metadata": {},
   "outputs": [],
   "source": [
    "ohe = OneHotEncoder(handle_unknown='ignore', sparse=False)\n",
    "\n",
    "ohe_X_train = X_train[['company', 'gender']]\n",
    "ohe_X_test = X_test[['company', 'gender']]\n",
    "\n",
    "ohe.fit(ohe_X_train)\n",
    "\n",
    "ohe_X_train_transform = ohe.transform(ohe_X_train)\n",
    "ohe_X_test_transform = ohe.transform(ohe_X_test)"
   ]
  },
  {
   "cell_type": "markdown",
   "metadata": {},
   "source": [
    "## Standard Scaler for all columns except for the ohe columns "
   ]
  },
  {
   "cell_type": "code",
   "execution_count": 105,
   "metadata": {},
   "outputs": [],
   "source": [
    "scaler = StandardScaler()\n",
    "\n",
    "scaled_X_train = X_train.drop(columns=['company','gender'])\n",
    "scaled_X_test = X_test.drop(columns=['company','gender'])\n",
    "\n",
    "scaler.fit(scaled_X_train)\n",
    "\n",
    "scaled_X_train_transform = scaler.transform(scaled_X_train)\n",
    "scaled_X_train_transform = scaler.transform(scaled_X_test)"
   ]
  },
  {
   "cell_type": "markdown",
   "metadata": {},
   "source": [
    "## Concatentating the the ohe columns and standerscaler back into one np array"
   ]
  },
  {
   "cell_type": "code",
   "execution_count": 106,
   "metadata": {},
   "outputs": [],
   "source": [
    "X_train = np.concatenate((scaled_X_train, ohe_X_train_transform), axis=1)\n",
    "X_test = np.concatenate((scaled_X_test, ohe_X_test_transform), axis=1)"
   ]
  },
  {
   "cell_type": "markdown",
   "metadata": {},
   "source": [
    "# KNN Model"
   ]
  },
  {
   "cell_type": "code",
   "execution_count": 107,
   "metadata": {},
   "outputs": [
    {
     "name": "stdout",
     "output_type": "stream",
     "text": [
      "Train Score: 0.8671740222760087\n",
      "Test Score: 0.7927017928791824\n"
     ]
    }
   ],
   "source": [
    "knn = KNeighborsRegressor()\n",
    "\n",
    "knn.fit(X_train, y_train)\n",
    "\n",
    "print(f'Train Score: {knn.score(X_train ,y_train)}')\n",
    "print(f'Test Score: {knn.score(X_test ,y_test)}')"
   ]
  },
  {
   "cell_type": "markdown",
   "metadata": {},
   "source": [
    "## Getting best Params for the KNN model"
   ]
  },
  {
   "cell_type": "code",
   "execution_count": 108,
   "metadata": {},
   "outputs": [],
   "source": [
    "knn_params ={\n",
    "    'n_neighbors' : [2,5,10,50,100],\n",
    "    'weights' : ['uniform', 'distance'],\n",
    "    'algorithm' : ['ball_tree', 'kd_tree','auto'],\n",
    "    'p' : [1,2]\n",
    "}"
   ]
  },
  {
   "cell_type": "markdown",
   "metadata": {},
   "source": [
    "## KNN gridSearch"
   ]
  },
  {
   "cell_type": "code",
   "execution_count": 109,
   "metadata": {},
   "outputs": [
    {
     "data": {
      "text/plain": [
       "GridSearchCV(estimator=KNeighborsRegressor(),\n",
       "             param_grid={'algorithm': ['ball_tree', 'kd_tree', 'auto'],\n",
       "                         'n_neighbors': [2, 5, 10, 50, 100], 'p': [1, 2],\n",
       "                         'weights': ['uniform', 'distance']})"
      ]
     },
     "execution_count": 109,
     "metadata": {},
     "output_type": "execute_result"
    }
   ],
   "source": [
    "grid = GridSearchCV(KNeighborsRegressor(), param_grid=knn_params)\n",
    "\n",
    "grid.fit(X_train, y_train)"
   ]
  },
  {
   "cell_type": "code",
   "execution_count": 110,
   "metadata": {},
   "outputs": [
    {
     "data": {
      "text/plain": [
       "{'algorithm': 'ball_tree', 'n_neighbors': 10, 'p': 1, 'weights': 'uniform'}"
      ]
     },
     "execution_count": 110,
     "metadata": {},
     "output_type": "execute_result"
    }
   ],
   "source": [
    "grid.best_params_"
   ]
  },
  {
   "cell_type": "markdown",
   "metadata": {},
   "source": [
    "## KNN model with the best params"
   ]
  },
  {
   "cell_type": "code",
   "execution_count": 111,
   "metadata": {},
   "outputs": [
    {
     "name": "stdout",
     "output_type": "stream",
     "text": [
      "Training Score =   r2: 0.9271004074482505   rmse: 37333.69836886514   mse: 1393805033.8974032   mae: 16026.626223925074 \n",
      "Testing Score =   r2: 0.8136070535308068   rmse: 59280.81972052059   mse: 3514215586.736862   mae: 28177.623140284784 \n"
     ]
    }
   ],
   "source": [
    "knn =  KNeighborsRegressor(algorithm='kd_tree', n_neighbors=2, p= 1, weights='uniform')\n",
    "\n",
    "knn.fit(X_train, y_train)\n",
    "\n",
    "knn_train_pred = knn.predict(X_train)\n",
    "knn_test_pred = knn.predict(X_test)\n",
    "\n",
    "#training scores\n",
    "knn_rmse_train = np.sqrt(mean_squared_error(y_train, knn_train_pred))\n",
    "knn_mse_train = mean_squared_error(y_train, knn_train_pred)\n",
    "knn_mae_train = mean_absolute_error(y_train, knn_train_pred)\n",
    "knn_r2_train = r2_score(y_train, knn_train_pred)\n",
    "\n",
    "#testing scores\n",
    "knn_rmse_test = np.sqrt(mean_squared_error(y_test, knn_test_pred))\n",
    "knn_mse_test = mean_squared_error(y_test, knn_test_pred)\n",
    "knn_mae_test = mean_absolute_error(y_test, knn_test_pred)\n",
    "knn_r2_test = r2_score(y_test, knn_test_pred)\n",
    "\n",
    "\n",
    "print(f'Training Score =   r2: {knn_r2_train}   rmse: {knn_rmse_train}   mse: {knn_mse_train}   mae: {knn_mae_train} ')\n",
    "print(f'Testing Score =   r2: {knn_r2_test}   rmse: {knn_rmse_test}   mse: {knn_mse_test}   mae: {knn_mae_test} ')"
   ]
  },
  {
   "cell_type": "markdown",
   "metadata": {},
   "source": [
    "# Decision Tree"
   ]
  },
  {
   "cell_type": "code",
   "execution_count": 112,
   "metadata": {},
   "outputs": [
    {
     "name": "stdout",
     "output_type": "stream",
     "text": [
      "Training Score =   r2: 0.9880182951269988\n",
      "Testing Score =   r2: 0.7720454775361891\n"
     ]
    }
   ],
   "source": [
    "dt = DecisionTreeRegressor()\n",
    "dt.fit(X_train, y_train)\n",
    "\n",
    "dt_train_pred = dt.predict(X_train)\n",
    "dt_test_pred = dt.predict(X_test)\n",
    "\n",
    "\n",
    "dt_r2_train = r2_score(y_train, dt_train_pred)\n",
    "dt_r2_test = r2_score(y_test, dt_test_pred)\n",
    "\n",
    "print(f'Training Score =   r2: {dt_r2_train}')\n",
    "print(f'Testing Score =   r2: {dt_r2_test}')\n"
   ]
  },
  {
   "cell_type": "markdown",
   "metadata": {},
   "source": [
    "## Getting best params for the dt model"
   ]
  },
  {
   "cell_type": "code",
   "execution_count": 113,
   "metadata": {},
   "outputs": [],
   "source": [
    "dt_params = {\n",
    "    'criterion' : ['squared_error', 'friedman_mse', 'absolute_error'],\n",
    "    'splitter' : ['best', 'random'], \n",
    "    'max_depth' : [2,5,10,25,50,100], \n",
    "    'max_features' : [None, 'auto', 'sqrt', 'log2'],\n",
    "}"
   ]
  },
  {
   "cell_type": "markdown",
   "metadata": {},
   "source": [
    "## GridSearch for dt model"
   ]
  },
  {
   "cell_type": "code",
   "execution_count": 114,
   "metadata": {},
   "outputs": [
    {
     "data": {
      "text/plain": [
       "GridSearchCV(estimator=DecisionTreeRegressor(),\n",
       "             param_grid={'criterion': ['squared_error', 'friedman_mse',\n",
       "                                       'absolute_error'],\n",
       "                         'max_depth': [2, 5, 10, 25, 50, 100],\n",
       "                         'max_features': [None, 'auto', 'sqrt', 'log2'],\n",
       "                         'splitter': ['best', 'random']})"
      ]
     },
     "execution_count": 114,
     "metadata": {},
     "output_type": "execute_result"
    }
   ],
   "source": [
    "dt_grid = GridSearchCV(DecisionTreeRegressor(), param_grid=dt_params)\n",
    "\n",
    "dt_grid.fit(X_train, y_train)"
   ]
  },
  {
   "cell_type": "code",
   "execution_count": 115,
   "metadata": {},
   "outputs": [
    {
     "data": {
      "text/plain": [
       "{'criterion': 'friedman_mse',\n",
       " 'max_depth': 10,\n",
       " 'max_features': 'auto',\n",
       " 'splitter': 'best'}"
      ]
     },
     "execution_count": 115,
     "metadata": {},
     "output_type": "execute_result"
    }
   ],
   "source": [
    "dt_grid.best_params_"
   ]
  },
  {
   "cell_type": "markdown",
   "metadata": {},
   "source": [
    "## Dt model with the best params"
   ]
  },
  {
   "cell_type": "code",
   "execution_count": 116,
   "metadata": {},
   "outputs": [
    {
     "name": "stdout",
     "output_type": "stream",
     "text": [
      "Training Score =   r2: 0.9205130548822237   rmse: 38983.99718364129   mse: 1519752036.4141517   mae: 22244.936753955684 \n",
      "Testing Score =   r2: 0.822621637317636   rmse: 57829.54620883997   mse: 3344256414.7203574   mae: 25346.528975632715 \n"
     ]
    }
   ],
   "source": [
    "dt =  DecisionTreeRegressor(criterion='friedman_mse', max_depth=10, max_features=None, splitter='best')\n",
    "\n",
    "dt.fit(X_train, y_train)\n",
    "\n",
    "dt_train_pred = dt.predict(X_train)\n",
    "dt_test_pred = dt.predict(X_test)\n",
    "\n",
    "#training scores\n",
    "dt_rmse_train = np.sqrt(mean_squared_error(y_train, dt_train_pred))\n",
    "dt_mse_train = mean_squared_error(y_train, dt_train_pred)\n",
    "dt_mae_train = mean_absolute_error(y_train, dt_train_pred)\n",
    "dt_r2_train = r2_score(y_train, dt_train_pred)\n",
    "\n",
    "#testing scores\n",
    "dt_rmse_test = np.sqrt(mean_squared_error(y_test, dt_test_pred))\n",
    "dt_mse_test = mean_squared_error(y_test, dt_test_pred)\n",
    "dt_mae_test = mean_absolute_error(y_test, dt_test_pred)\n",
    "dt_r2_test = r2_score(y_test, dt_test_pred)\n",
    "\n",
    "\n",
    "print(f'Training Score =   r2: {dt_r2_train}   rmse: {dt_rmse_train}   mse: {dt_mse_train}   mae: {dt_mae_train} ')\n",
    "print(f'Testing Score =   r2: {dt_r2_test}   rmse: {dt_rmse_test}   mse: {dt_mse_test}   mae: {dt_mae_test} ')"
   ]
  },
  {
   "cell_type": "markdown",
   "metadata": {},
   "source": [
    "# Random Forest"
   ]
  },
  {
   "cell_type": "code",
   "execution_count": 117,
   "metadata": {},
   "outputs": [
    {
     "name": "stdout",
     "output_type": "stream",
     "text": [
      "Training Score =   r2: 0.9679237326693461\n",
      "Testing Score =   r2: 0.8427584487393184\n"
     ]
    }
   ],
   "source": [
    "rf = RandomForestRegressor()\n",
    "\n",
    "rf.fit(X_train,y_train)\n",
    "rf_train_pred = rf.predict(X_train)\n",
    "rf_test_pred = rf.predict(X_test)\n",
    "\n",
    "\n",
    "rf_r2_train = r2_score(y_train, rf_train_pred)\n",
    "rf_r2_test = r2_score(y_test, rf_test_pred)\n",
    "\n",
    "print(f'Training Score =   r2: {rf_r2_train}')\n",
    "print(f'Testing Score =   r2: {rf_r2_test}')"
   ]
  },
  {
   "cell_type": "markdown",
   "metadata": {},
   "source": [
    "## Getting best params for the random forest model"
   ]
  },
  {
   "cell_type": "code",
   "execution_count": 118,
   "metadata": {},
   "outputs": [],
   "source": [
    "rf_params = {\n",
    "    'n_estimators' : [2,5,50,100], \n",
    "    'criterion' : ['squared_error', 'friedman_mse', 'absolute_error'],\n",
    "    'max_depth' : [2,5,50,100], \n",
    "    'max_features' : ['auto', 'sqrt', 'log2'],\n",
    "}"
   ]
  },
  {
   "cell_type": "markdown",
   "metadata": {},
   "source": [
    "## GridSearch for the random forest model"
   ]
  },
  {
   "cell_type": "code",
   "execution_count": 119,
   "metadata": {},
   "outputs": [
    {
     "data": {
      "text/plain": [
       "GridSearchCV(estimator=RandomForestRegressor(),\n",
       "             param_grid={'criterion': ['squared_error', 'friedman_mse',\n",
       "                                       'absolute_error'],\n",
       "                         'max_depth': [2, 5, 50, 100],\n",
       "                         'max_features': ['auto', 'sqrt', 'log2'],\n",
       "                         'n_estimators': [2, 5, 50, 100]})"
      ]
     },
     "execution_count": 119,
     "metadata": {},
     "output_type": "execute_result"
    }
   ],
   "source": [
    "rf_grid = GridSearchCV(RandomForestRegressor(), param_grid=rf_params)\n",
    "\n",
    "rf_grid.fit(X_train, y_train)"
   ]
  },
  {
   "cell_type": "code",
   "execution_count": 120,
   "metadata": {},
   "outputs": [
    {
     "data": {
      "text/plain": [
       "{'criterion': 'friedman_mse',\n",
       " 'max_depth': 100,\n",
       " 'max_features': 'log2',\n",
       " 'n_estimators': 50}"
      ]
     },
     "execution_count": 120,
     "metadata": {},
     "output_type": "execute_result"
    }
   ],
   "source": [
    "rf_grid.best_params_"
   ]
  },
  {
   "cell_type": "markdown",
   "metadata": {},
   "source": [
    "## Random forest model with the best params"
   ]
  },
  {
   "cell_type": "code",
   "execution_count": 121,
   "metadata": {},
   "outputs": [
    {
     "name": "stdout",
     "output_type": "stream",
     "text": [
      "Training Score =   r2: 0.9695496099235253   rmse: 24128.753910314532   mse: 582196765.2645189   mae: 10214.206004642907 \n",
      "Testing Score =   r2: 0.8361805165721999   rmse: 55575.35423779086   mse: 3088619998.6559386   mae: 23338.47158062918 \n"
     ]
    }
   ],
   "source": [
    "rf =  RandomForestRegressor(criterion='friedman_mse', max_depth=100, max_features='sqrt', n_estimators=100)\n",
    "\n",
    "rf.fit(X_train, y_train)\n",
    "\n",
    "rf_train_pred = rf.predict(X_train)\n",
    "rf_test_pred = rf.predict(X_test)\n",
    "\n",
    "#training scores\n",
    "rf_rmse_train = np.sqrt(mean_squared_error(y_train, rf_train_pred))\n",
    "rf_mse_train = mean_squared_error(y_train, rf_train_pred)\n",
    "rf_mae_train = mean_absolute_error(y_train, rf_train_pred)\n",
    "rf_r2_train = r2_score(y_train, rf_train_pred)\n",
    "\n",
    "#testing scores\n",
    "rf_rmse_test = np.sqrt(mean_squared_error(y_test, rf_test_pred))\n",
    "rf_mse_test = mean_squared_error(y_test, rf_test_pred)\n",
    "rf_mae_test = mean_absolute_error(y_test, rf_test_pred)\n",
    "rf_r2_test = r2_score(y_test, rf_test_pred)\n",
    "\n",
    "\n",
    "print(f'Training Score =   r2: {rf_r2_train}   rmse: {rf_rmse_train}   mse: {rf_mse_train}   mae: {rf_mae_train} ')\n",
    "print(f'Testing Score =   r2: {rf_r2_test}   rmse: {rf_rmse_test}   mse: {rf_mse_test}   mae: {rf_mae_test} ')"
   ]
  },
  {
   "cell_type": "markdown",
   "metadata": {},
   "source": [
    "## Comparing all models"
   ]
  },
  {
   "cell_type": "code",
   "execution_count": 122,
   "metadata": {},
   "outputs": [
    {
     "data": {
      "image/png": "[encoded data removed]",
      "text/plain": [
       "<Figure size 1440x720 with 4 Axes>"
      ]
     },
     "metadata": {
      "needs_background": "light"
     },
     "output_type": "display_data"
    },
    {
     "name": "stdout",
     "output_type": "stream",
     "text": [
      "\n",
      "Graph 1: For this graph the highest score is the best so in this case the random forest model had the highest testing r2 score.\n",
      "\n",
      "For the next 3 graphs the lowest score is the best since you are looking for the least amount of error. There is a consistant trend\n",
      "with in all three graphs that KNN is the highest and Random Forest is the lowest. With this being said its clear that the best model \n",
      "of the three is the Random Forest model based on all these scores\n"
     ]
    }
   ],
   "source": [
    "r2scores = [knn_r2_test, dt_r2_test, rf_r2_test]\n",
    "rmsescores = [knn_rmse_test, dt_rmse_test, rf_rmse_test]\n",
    "maescores = [knn_mae_test, dt_mae_test, rf_mae_test]\n",
    "msescores= [knn_mse_test, dt_mse_test, rf_mse_test]\n",
    "names = ['KNN', 'Decision Tree', 'RandomForest']\n",
    "\n",
    "fig = plt.figure(figsize=(20,10))\n",
    "fig.suptitle('Model Score Comparison', fontsize=15)\n",
    "\n",
    "ax1= plt.subplot(221)\n",
    "ax2= plt.subplot(222)\n",
    "ax3= plt.subplot(223)\n",
    "ax4= plt.subplot(224)\n",
    "\n",
    "\n",
    "ax1.bar(names, r2scores)\n",
    "ax1.set_title('Testing R2 Scores for all models used')\n",
    "ax1.set_ylabel('R2 Scores')\n",
    "ax1.set_xlabel('Models')\n",
    "ax1.set_ylim(.8)\n",
    "ax1.set_yticks(np.arange(.8,.9,.01))\n",
    "\n",
    "\n",
    "ax2.bar(names, rmsescores)\n",
    "ax2.set_title('RMSE Scores for all models used')\n",
    "ax2.set_ylabel('RMSE Scores')\n",
    "ax2.set_ylim(50000, 60000)\n",
    "ax2.set_xlabel('Models')\n",
    "\n",
    "ax3.bar(names, maescores)\n",
    "ax3.set_title('MAE Scores for all models used')\n",
    "ax3.set_ylabel('MAE Scores')\n",
    "ax3.set_ylim(15000, 30000)\n",
    "ax3.set_xlabel('Models')\n",
    "\n",
    "\n",
    "\n",
    "ax4.bar(names, msescores)\n",
    "ax4.set_title('MSE Scores for all models used')\n",
    "ax4.set_ylabel('MSE Scores')\n",
    "ax4.set_ylim(3000000000, 3600000000)\n",
    "ax4.ticklabel_format(style='plain', axis='y')\n",
    "ax4.set_xlabel('Models')\n",
    "plt.show()\n",
    "\n",
    "print('''\n",
    "Graph 1: For this graph the highest score is the best so in this case the random forest model had the highest testing r2 score.\\n\n",
    "For the next 3 graphs the lowest score is the best since you are looking for the least amount of error. There is a consistant trend\n",
    "with in all three graphs that KNN is the highest and Random Forest is the lowest. With this being said its clear that the best model \n",
    "of the three is the Random Forest model based on all these scores''')\n"
   ]
  },
  {
   "cell_type": "code",
   "execution_count": null,
   "metadata": {},
   "outputs": [],
   "source": []
  }
 ],
 "metadata": {
  "interpreter": {
   "hash": "ae86e1e3cf00bcf9d4c41097730d3c58ce0334d6c45261508081dd2e9b348fbe"
  },
  "kernelspec": {
   "display_name": "Python 3.8.5 64-bit ('base': conda)",
   "name": "python3"
  },
  "language_info": {
   "codemirror_mode": {
    "name": "ipython",
    "version": 3
   },
   "file_extension": ".py",
   "mimetype": "text/x-python",
   "name": "python",
   "nbconvert_exporter": "python",
   "pygments_lexer": "ipython3",
   "version": "3.8.5"
  },
  "orig_nbformat": 4
 },
 "nbformat": 4,
 "nbformat_minor": 2
}
